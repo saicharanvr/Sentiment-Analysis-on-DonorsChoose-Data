{
 "cells": [
  {
   "cell_type": "markdown",
   "metadata": {},
   "source": [
    "# Different CNN Architectures on MNIST image data"
   ]
  },
  {
   "cell_type": "code",
   "execution_count": 0,
   "metadata": {
    "colab": {
     "base_uri": "https://localhost:8080/",
     "height": 126
    },
    "colab_type": "code",
    "id": "nP9g7bVkfrel",
    "outputId": "53e56a14-223e-4df7-f37a-d0e5adbcb9bd"
   },
   "outputs": [
    {
     "name": "stderr",
     "output_type": "stream",
     "text": [
      "Using TensorFlow backend.\n"
     ]
    },
    {
     "name": "stdout",
     "output_type": "stream",
     "text": [
      "Downloading data from https://s3.amazonaws.com/img-datasets/mnist.npz\n",
      "11493376/11490434 [==============================] - 11s 1us/step\n",
      "x_train shape: (60000, 28, 28, 1)\n",
      "60000 train samples\n",
      "10000 test samples\n"
     ]
    }
   ],
   "source": [
    "# Credits: https://github.com/keras-team/keras/blob/master/examples/mnist_cnn.py\n",
    "\n",
    "from __future__ import print_function\n",
    "import keras\n",
    "from keras.datasets import mnist\n",
    "from keras.models import Sequential\n",
    "from keras.layers import Dense, Dropout, Flatten\n",
    "from keras.layers import Conv2D, MaxPooling2D\n",
    "from keras import backend as K\n",
    "from keras.layers.normalization import BatchNormalization\n",
    "\n",
    "batch_size = 128\n",
    "num_classes = 10\n",
    "epochs = 12\n",
    "\n",
    "# input image dimensions\n",
    "img_rows, img_cols = 28, 28\n",
    "\n",
    "# the data, split between train and test sets\n",
    "(x_train, y_train), (x_test, y_test) = mnist.load_data()\n",
    "\n",
    "if K.image_data_format() == 'channels_first':\n",
    "    x_train = x_train.reshape(x_train.shape[0], 1, img_rows, img_cols)\n",
    "    x_test = x_test.reshape(x_test.shape[0], 1, img_rows, img_cols)\n",
    "    input_shape = (1, img_rows, img_cols)\n",
    "else:\n",
    "    x_train = x_train.reshape(x_train.shape[0], img_rows, img_cols, 1)\n",
    "    x_test = x_test.reshape(x_test.shape[0], img_rows, img_cols, 1)\n",
    "    input_shape = (img_rows, img_cols, 1)\n",
    "\n",
    "x_train = x_train.astype('float32')\n",
    "x_test = x_test.astype('float32')\n",
    "x_train /= 255\n",
    "x_test /= 255\n",
    "print('x_train shape:', x_train.shape)\n",
    "print(x_train.shape[0], 'train samples')\n",
    "print(x_test.shape[0], 'test samples')\n",
    "\n",
    "# convert class vectors to binary class matrices\n",
    "y_train = keras.utils.to_categorical(y_train, num_classes)\n",
    "y_test = keras.utils.to_categorical(y_test, num_classes)\n"
   ]
  },
  {
   "cell_type": "code",
   "execution_count": 0,
   "metadata": {
    "colab": {},
    "colab_type": "code",
    "id": "i04a5paBpDBi"
   },
   "outputs": [],
   "source": [
    "%matplotlib notebook\n",
    "%matplotlib inline\n",
    "import matplotlib.pyplot as plt\n",
    "import numpy as np\n",
    "import time\n",
    "# https://gist.github.com/greydanus/f6eee59eaf1d90fcb3b534a25362cea4\n",
    "# https://stackoverflow.com/a/14434334\n",
    "# this function is used to update the plots for each epoch and error\n",
    "def plt_dynamic(x, vy, ty, ax, colors=['b']):\n",
    "    plt.plot(x, vy, 'b', label=\"Validation Loss\")\n",
    "    plt.plot(x, ty, 'r', label=\"Train Loss\")\n",
    "    plt.legend()\n",
    "    plt.grid()\n",
    "    plt.show()"
   ]
  },
  {
   "cell_type": "markdown",
   "metadata": {
    "colab": {},
    "colab_type": "code",
    "id": "y48MNs_Pfreu"
   },
   "source": [
    "# Model-1 with 3-layer Conv net"
   ]
  },
  {
   "cell_type": "code",
   "execution_count": 0,
   "metadata": {
    "colab": {
     "base_uri": "https://localhost:8080/",
     "height": 710
    },
    "colab_type": "code",
    "id": "ihkK4JCKfrey",
    "outputId": "6d2e9d40-4352-49f4-9bea-6a79dad1b0ec"
   },
   "outputs": [
    {
     "name": "stdout",
     "output_type": "stream",
     "text": [
      "WARNING:tensorflow:From /usr/local/lib/python3.6/dist-packages/tensorflow/python/framework/op_def_library.py:263: colocate_with (from tensorflow.python.framework.ops) is deprecated and will be removed in a future version.\n",
      "Instructions for updating:\n",
      "Colocations handled automatically by placer.\n",
      "WARNING:tensorflow:From /usr/local/lib/python3.6/dist-packages/keras/backend/tensorflow_backend.py:3445: calling dropout (from tensorflow.python.ops.nn_ops) with keep_prob is deprecated and will be removed in a future version.\n",
      "Instructions for updating:\n",
      "Please use `rate` instead of `keep_prob`. Rate should be set to `rate = 1 - keep_prob`.\n",
      "WARNING:tensorflow:From /usr/local/lib/python3.6/dist-packages/tensorflow/python/ops/math_ops.py:3066: to_int32 (from tensorflow.python.ops.math_ops) is deprecated and will be removed in a future version.\n",
      "Instructions for updating:\n",
      "Use tf.cast instead.\n",
      "Train on 60000 samples, validate on 10000 samples\n",
      "Epoch 1/12\n",
      "60000/60000 [==============================] - 165s 3ms/step - loss: 0.5057 - acc: 0.8346 - val_loss: 0.0852 - val_acc: 0.9749\n",
      "Epoch 2/12\n",
      "60000/60000 [==============================] - 164s 3ms/step - loss: 0.1315 - acc: 0.9636 - val_loss: 0.0473 - val_acc: 0.9847\n",
      "Epoch 3/12\n",
      "60000/60000 [==============================] - 165s 3ms/step - loss: 0.0964 - acc: 0.9726 - val_loss: 0.0341 - val_acc: 0.9903\n",
      "Epoch 4/12\n",
      "60000/60000 [==============================] - 164s 3ms/step - loss: 0.0785 - acc: 0.9781 - val_loss: 0.0322 - val_acc: 0.9911\n",
      "Epoch 5/12\n",
      "60000/60000 [==============================] - 165s 3ms/step - loss: 0.0690 - acc: 0.9808 - val_loss: 0.0287 - val_acc: 0.9922\n",
      "Epoch 6/12\n",
      "60000/60000 [==============================] - 164s 3ms/step - loss: 0.0611 - acc: 0.9823 - val_loss: 0.0269 - val_acc: 0.9923\n",
      "Epoch 7/12\n",
      "60000/60000 [==============================] - 164s 3ms/step - loss: 0.0545 - acc: 0.9845 - val_loss: 0.0252 - val_acc: 0.9918\n",
      "Epoch 8/12\n",
      "60000/60000 [==============================] - 164s 3ms/step - loss: 0.0527 - acc: 0.9857 - val_loss: 0.0290 - val_acc: 0.9920\n",
      "Epoch 9/12\n",
      "60000/60000 [==============================] - 164s 3ms/step - loss: 0.0490 - acc: 0.9860 - val_loss: 0.0252 - val_acc: 0.9931\n",
      "Epoch 10/12\n",
      "60000/60000 [==============================] - 164s 3ms/step - loss: 0.0494 - acc: 0.9862 - val_loss: 0.0239 - val_acc: 0.9931\n",
      "Epoch 11/12\n",
      "60000/60000 [==============================] - 163s 3ms/step - loss: 0.0427 - acc: 0.9880 - val_loss: 0.0281 - val_acc: 0.9913\n",
      "Epoch 12/12\n",
      "60000/60000 [==============================] - 165s 3ms/step - loss: 0.0438 - acc: 0.9879 - val_loss: 0.0270 - val_acc: 0.9926\n",
      "\n",
      "Test loss: 0.02704741602344957\n",
      "Test accuracy: 0.9926\n"
     ]
    }
   ],
   "source": [
    "\n",
    "model_1 = Sequential()\n",
    "\n",
    "#layer_1\n",
    "model_1.add(Conv2D(32, kernel_size=(7, 7),padding='same',activation='relu',input_shape=input_shape))\n",
    "model_1.add(MaxPooling2D(pool_size=(2, 2)))\n",
    "model_1.add(Dropout(0.25))\n",
    "\n",
    "#layer_2\n",
    "model_1.add(BatchNormalization())\n",
    "model_1.add(Conv2D(64, (5, 5), activation='relu'))\n",
    "model_1.add(MaxPooling2D(pool_size=(2, 2)))\n",
    "model_1.add(Dropout(0.25))\n",
    "\n",
    "#layer_3\n",
    "model_1.add(Conv2D(128, (3, 3),strides=(2,2), activation='relu'))\n",
    "model_1.add(MaxPooling2D(pool_size=(2, 2)))\n",
    "model_1.add(Dropout(0.25))\n",
    "\n",
    "#Dense layer\n",
    "model_1.add(Flatten())\n",
    "model_1.add(Dense(128, activation='relu'))\n",
    "model_1.add(Dropout(0.5))\n",
    "model_1.add(Dense(num_classes, activation='softmax'))\n",
    "\n",
    "model_1.compile(loss=keras.losses.categorical_crossentropy,\n",
    "              optimizer=keras.optimizers.Adam(),\n",
    "              metrics=['accuracy'])\n",
    "\n",
    "hist1 = model_1.fit(x_train, y_train,\n",
    "          batch_size=batch_size,\n",
    "          epochs=epochs,\n",
    "          verbose=1,\n",
    "          validation_data=(x_test, y_test))\n",
    "\n",
    "score1 = model_1.evaluate(x_test, y_test, verbose=0)\n",
    "\n",
    "print()\n",
    "print('Test loss:', score1[0])\n",
    "print('Test accuracy:', score1[1])"
   ]
  },
  {
   "cell_type": "markdown",
   "metadata": {},
   "source": [
    "### Error plot"
   ]
  },
  {
   "cell_type": "code",
   "execution_count": 0,
   "metadata": {
    "colab": {
     "base_uri": "https://localhost:8080/",
     "height": 284
    },
    "colab_type": "code",
    "id": "BSn8OerKf77B",
    "outputId": "b69f7faa-3369-454d-bad5-b26010eeadc6"
   },
   "outputs": [
    {
     "data": {
      "image/png": "[encoded data removed]",
      "text/plain": [
       "<Figure size 432x288 with 1 Axes>"
      ]
     },
     "metadata": {
      "tags": []
     },
     "output_type": "display_data"
    }
   ],
   "source": [
    "fig,ax = plt.subplots(1,1)\n",
    "ax.set_xlabel('epoch') ; ax.set_ylabel('Categorical Crossentropy Loss')\n",
    "\n",
    "# list of epoch numbers\n",
    "x = list(range(1, epochs+1))\n",
    "\n",
    "vy = hist1.history['val_loss']\n",
    "ty = hist1.history['loss']\n",
    "plt_dynamic(x, vy, ty, ax)"
   ]
  },
  {
   "cell_type": "markdown",
   "metadata": {},
   "source": [
    "**summary**\n",
    "    Here if we see as the number of epochs increases trian loss and validation loss decreases, and just for two epochs trian loss\n",
    "    drastically decreases and giving high accuracy i.e more than 99% and this is a trrific result and the model is performing very well."
   ]
  },
  {
   "cell_type": "markdown",
   "metadata": {
    "colab_type": "text",
    "id": "lCd2JKHnf77F"
   },
   "source": [
    "# Model-2 with 5-layers Conv nets"
   ]
  },
  {
   "cell_type": "code",
   "execution_count": 0,
   "metadata": {
    "colab": {
     "base_uri": "https://localhost:8080/",
     "height": 710
    },
    "colab_type": "code",
    "id": "gUbxBKAtfre6",
    "outputId": "e55a7569-d409-44bf-b22e-3dd396454172"
   },
   "outputs": [
    {
     "name": "stdout",
     "output_type": "stream",
     "text": [
      "WARNING:tensorflow:From /usr/local/lib/python3.6/dist-packages/tensorflow/python/framework/op_def_library.py:263: colocate_with (from tensorflow.python.framework.ops) is deprecated and will be removed in a future version.\n",
      "Instructions for updating:\n",
      "Colocations handled automatically by placer.\n",
      "WARNING:tensorflow:From /usr/local/lib/python3.6/dist-packages/keras/backend/tensorflow_backend.py:3445: calling dropout (from tensorflow.python.ops.nn_ops) with keep_prob is deprecated and will be removed in a future version.\n",
      "Instructions for updating:\n",
      "Please use `rate` instead of `keep_prob`. Rate should be set to `rate = 1 - keep_prob`.\n",
      "WARNING:tensorflow:From /usr/local/lib/python3.6/dist-packages/tensorflow/python/ops/math_ops.py:3066: to_int32 (from tensorflow.python.ops.math_ops) is deprecated and will be removed in a future version.\n",
      "Instructions for updating:\n",
      "Use tf.cast instead.\n",
      "Train on 60000 samples, validate on 10000 samples\n",
      "Epoch 1/12\n",
      "60000/60000 [==============================] - 390s 6ms/step - loss: 0.3995 - acc: 0.8804 - val_loss: 0.0633 - val_acc: 0.9830\n",
      "Epoch 2/12\n",
      "60000/60000 [==============================] - 390s 6ms/step - loss: 0.1140 - acc: 0.9678 - val_loss: 0.0710 - val_acc: 0.9802\n",
      "Epoch 3/12\n",
      "60000/60000 [==============================] - 388s 6ms/step - loss: 0.0876 - acc: 0.9760 - val_loss: 0.0437 - val_acc: 0.9877\n",
      "Epoch 4/12\n",
      "60000/60000 [==============================] - 388s 6ms/step - loss: 0.0736 - acc: 0.9799 - val_loss: 0.0353 - val_acc: 0.9900\n",
      "Epoch 5/12\n",
      "60000/60000 [==============================] - 387s 6ms/step - loss: 0.0624 - acc: 0.9832 - val_loss: 0.0339 - val_acc: 0.9900\n",
      "Epoch 6/12\n",
      "60000/60000 [==============================] - 387s 6ms/step - loss: 0.0613 - acc: 0.9839 - val_loss: 0.0486 - val_acc: 0.9865\n",
      "Epoch 7/12\n",
      "60000/60000 [==============================] - 392s 7ms/step - loss: 0.0532 - acc: 0.9856 - val_loss: 0.0260 - val_acc: 0.9931\n",
      "Epoch 8/12\n",
      "60000/60000 [==============================] - 391s 7ms/step - loss: 0.0481 - acc: 0.9872 - val_loss: 0.0286 - val_acc: 0.9928\n",
      "Epoch 9/12\n",
      "60000/60000 [==============================] - 389s 6ms/step - loss: 0.0427 - acc: 0.9886 - val_loss: 0.0247 - val_acc: 0.9931\n",
      "Epoch 10/12\n",
      "60000/60000 [==============================] - 389s 6ms/step - loss: 0.0399 - acc: 0.9892 - val_loss: 0.0277 - val_acc: 0.9932\n",
      "Epoch 11/12\n",
      "60000/60000 [==============================] - 389s 6ms/step - loss: 0.0371 - acc: 0.9892 - val_loss: 0.0328 - val_acc: 0.9925\n",
      "Epoch 12/12\n",
      "60000/60000 [==============================] - 389s 6ms/step - loss: 0.0365 - acc: 0.9893 - val_loss: 0.0288 - val_acc: 0.9928\n",
      "\n",
      "Test loss: 0.028751176324406925\n",
      "Test accuracy: 0.9928\n"
     ]
    }
   ],
   "source": [
    "model_2 = Sequential()\n",
    "\n",
    "#layer_1\n",
    "model_2.add(Conv2D(16, kernel_size=(5, 5),padding='same',activation='relu',input_shape=input_shape))\n",
    "model_2.add(MaxPooling2D(pool_size=(2, 2)))\n",
    "model_2.add(BatchNormalization())\n",
    "\n",
    "#layer_2\n",
    "model_2.add(Conv2D(32, kernel_size=(5, 5),padding='same',activation='relu'))\n",
    "model_2.add(Dropout(0.25))\n",
    "\n",
    "#layer_3\n",
    "model_2.add(Conv2D(32, kernel_size=(7, 7),padding='same',activation='relu'))\n",
    "model_2.add(Dropout(0.25))\n",
    "\n",
    "#layer_4\n",
    "model_2.add(Conv2D(64, kernel_size=(3, 3),activation='relu'))\n",
    "model_2.add(BatchNormalization())\n",
    "\n",
    "#layer_5\n",
    "model_2.add(Conv2D(128, kernel_size=(3, 3) ,activation='relu'))\n",
    "model_2.add(BatchNormalization())\n",
    "model_2.add(MaxPooling2D(pool_size=(2, 2)))\n",
    "model_2.add(Dropout(0.25))\n",
    "\n",
    "#Dense layer\n",
    "model_2.add(Flatten())\n",
    "model_2.add(Dense(128, activation='relu'))\n",
    "model_2.add(Dropout(0.5))\n",
    "model_2.add(Dense(num_classes, activation='softmax'))\n",
    "\n",
    "model_2.compile(loss=keras.losses.categorical_crossentropy,\n",
    "              optimizer=keras.optimizers.Adam(),\n",
    "              metrics=['accuracy'])\n",
    "\n",
    "hist2 = model_2.fit(x_train, y_train,\n",
    "          batch_size=batch_size,\n",
    "          epochs=epochs,\n",
    "          verbose=1,\n",
    "          validation_data=(x_test, y_test))\n",
    "score2 = model_2.evaluate(x_test, y_test, verbose=0)\n",
    "\n",
    "print()\n",
    "print('Test loss:', score2[0])\n",
    "print('Test accuracy:', score2[1])"
   ]
  },
  {
   "cell_type": "markdown",
   "metadata": {},
   "source": [
    "### Error plot"
   ]
  },
  {
   "cell_type": "code",
   "execution_count": 0,
   "metadata": {
    "colab": {
     "base_uri": "https://localhost:8080/",
     "height": 284
    },
    "colab_type": "code",
    "id": "kraJ0wUzf77R",
    "outputId": "52b1b5d8-0bff-4001-cbae-81ab6ab5c9c6"
   },
   "outputs": [
    {
     "data": {
      "image/png": "[encoded data removed]",
      "text/plain": [
       "<Figure size 432x288 with 1 Axes>"
      ]
     },
     "metadata": {
      "tags": []
     },
     "output_type": "display_data"
    }
   ],
   "source": [
    "fig,ax = plt.subplots(1,1)\n",
    "ax.set_xlabel('epoch') ; ax.set_ylabel('Categorical Crossentropy Loss')\n",
    "\n",
    "# list of epoch numbers\n",
    "x = list(range(1, epochs+1))\n",
    "\n",
    "vy = hist2.history['val_loss']\n",
    "ty = hist2.history['loss']\n",
    "plt_dynamic(x, vy, ty, ax)"
   ]
  },
  {
   "cell_type": "markdown",
   "metadata": {},
   "source": [
    "**summary**\n",
    "Here if we see as the number of epochs increases trian loss and validation loss decreases, and if we notice validation loss is \n",
    "increases after few epochs and after converges gradually this is also performing similar to two layer conv net, giving high \\\n",
    "accuracy i.e more than 99% and this is a terrific result and the model is performing very well."
   ]
  },
  {
   "cell_type": "markdown",
   "metadata": {
    "colab": {},
    "colab_type": "code",
    "id": "v03UBgoyfre_"
   },
   "source": [
    "# Model-3 with 7- layer Conv nets"
   ]
  },
  {
   "cell_type": "code",
   "execution_count": 0,
   "metadata": {
    "colab": {
     "base_uri": "https://localhost:8080/",
     "height": 522
    },
    "colab_type": "code",
    "id": "6av4R5ECfrfC",
    "outputId": "f1a0fe67-d6bc-44fe-c6b2-88417485c3d1"
   },
   "outputs": [
    {
     "name": "stdout",
     "output_type": "stream",
     "text": [
      "Train on 60000 samples, validate on 10000 samples\n",
      "Epoch 1/12\n",
      "60000/60000 [==============================] - 2515s 42ms/step - loss: 0.2375 - acc: 0.9275 - val_loss: 0.0432 - val_acc: 0.9863\n",
      "Epoch 2/12\n",
      "60000/60000 [==============================] - 2517s 42ms/step - loss: 0.0698 - acc: 0.9799 - val_loss: 0.0345 - val_acc: 0.9899\n",
      "Epoch 3/12\n",
      "60000/60000 [==============================] - 2518s 42ms/step - loss: 0.0487 - acc: 0.9862 - val_loss: 0.0547 - val_acc: 0.9849\n",
      "Epoch 4/12\n",
      "60000/60000 [==============================] - 2520s 42ms/step - loss: 0.0408 - acc: 0.9884 - val_loss: 0.0228 - val_acc: 0.9927\n",
      "Epoch 5/12\n",
      "60000/60000 [==============================] - 2504s 42ms/step - loss: 0.0370 - acc: 0.9894 - val_loss: 0.0203 - val_acc: 0.9937\n",
      "Epoch 6/12\n",
      "60000/60000 [==============================] - 2523s 42ms/step - loss: 0.0353 - acc: 0.9896 - val_loss: 0.0217 - val_acc: 0.9933\n",
      "Epoch 7/12\n",
      "60000/60000 [==============================] - 2506s 42ms/step - loss: 0.0310 - acc: 0.9912 - val_loss: 0.0286 - val_acc: 0.9919\n",
      "Epoch 8/12\n",
      "60000/60000 [==============================] - 2529s 42ms/step - loss: 0.0298 - acc: 0.9910 - val_loss: 0.0247 - val_acc: 0.9923\n",
      "Epoch 9/12\n",
      "60000/60000 [==============================] - 2545s 42ms/step - loss: 0.0252 - acc: 0.9925 - val_loss: 0.0185 - val_acc: 0.9948\n",
      "Epoch 10/12\n",
      "60000/60000 [==============================] - 2541s 42ms/step - loss: 0.0247 - acc: 0.9928 - val_loss: 0.0200 - val_acc: 0.9939\n",
      "Epoch 11/12\n",
      "60000/60000 [==============================] - 2540s 42ms/step - loss: 0.0223 - acc: 0.9935 - val_loss: 0.0209 - val_acc: 0.9941\n",
      "Epoch 12/12\n",
      "60000/60000 [==============================] - 2539s 42ms/step - loss: 0.0216 - acc: 0.9938 - val_loss: 0.0241 - val_acc: 0.9933\n",
      "\n",
      "Test loss: 0.024142850878026548\n",
      "Test accuracy: 0.9933\n"
     ]
    }
   ],
   "source": [
    "model_3 = Sequential()\n",
    "\n",
    "#layer-1\n",
    "model_3.add(Conv2D(32, kernel_size=(5, 5),padding='same',activation='relu',input_shape=input_shape))\n",
    "model_3.add(BatchNormalization())\n",
    "model_3.add(Dropout(0.25))\n",
    "\n",
    "#layer-2\n",
    "model_3.add(Conv2D(32, kernel_size=(7, 7),padding='same',activation='relu'))\n",
    "model_3.add(BatchNormalization())\n",
    "\n",
    "#layer-3\n",
    "model_3.add(Conv2D(64, kernel_size=(5, 5),padding='same',activation='relu'))\n",
    "model_3.add(Dropout(0.25))\n",
    "\n",
    "#layer-4\n",
    "model_3.add(Conv2D(64, kernel_size=(5, 5),padding='same',activation='relu'))\n",
    "model_3.add(MaxPooling2D(pool_size=(2, 2)))\n",
    "model_3.add(Dropout(0.25))\n",
    "\n",
    "#layer-5\n",
    "model_3.add(Conv2D(128, kernel_size=(5, 5),padding='same',activation='relu'))\n",
    "model_3.add(BatchNormalization())\n",
    "model_3.add(Dropout(0.25))\n",
    "\n",
    "#layer-6\n",
    "model_3.add(Conv2D(128, kernel_size=(3, 3),activation='relu'))\n",
    "model_3.add(MaxPooling2D(pool_size=(2, 2)))\n",
    "model_3.add(BatchNormalization())\n",
    "\n",
    "#layer-7\n",
    "model_3.add(Conv2D(128, kernel_size=(5, 5),activation='relu'))\n",
    "model_3.add(MaxPooling2D(pool_size=(2, 2)))\n",
    "model_3.add(BatchNormalization())\n",
    "model_3.add(Dropout(0.25))\n",
    "\n",
    "\n",
    "#Dense layer\n",
    "model_3.add(Flatten())\n",
    "model_3.add(Dense(128, activation='relu'))\n",
    "model_3.add(Dropout(0.5))\n",
    "model_3.add(Dense(num_classes, activation='softmax'))\n",
    "\n",
    "model_3.compile(loss=keras.losses.categorical_crossentropy,\n",
    "              optimizer=keras.optimizers.Adam(),\n",
    "              metrics=['accuracy'])\n",
    "\n",
    "hist3 = model_3.fit(x_train, y_train,\n",
    "          batch_size=batch_size,\n",
    "          epochs=epochs,\n",
    "          verbose=1,\n",
    "          validation_data=(x_test, y_test))\n",
    "score3 = model_3.evaluate(x_test, y_test, verbose=0)\n",
    "\n",
    "print()\n",
    "print('Test loss:', score3[0])\n",
    "print('Test accuracy:', score3[1])"
   ]
  },
  {
   "cell_type": "markdown",
   "metadata": {},
   "source": [
    "### Error plot "
   ]
  },
  {
   "cell_type": "code",
   "execution_count": 0,
   "metadata": {
    "colab": {
     "base_uri": "https://localhost:8080/",
     "height": 303
    },
    "colab_type": "code",
    "id": "pOSQqzp9f77j",
    "outputId": "8597f454-4228-42c6-fcb4-e08b87c11b7e"
   },
   "outputs": [
    {
     "data": {
      "image/png": "[encoded data removed]",
      "text/plain": [
       "<Figure size 432x288 with 1 Axes>"
      ]
     },
     "metadata": {
      "tags": []
     },
     "output_type": "display_data"
    }
   ],
   "source": [
    "fig,ax = plt.subplots(1,1)\n",
    "ax.set_xlabel('epoch') ; ax.set_ylabel('Categorical Crossentropy Loss')\n",
    "\n",
    "# list of epoch numbers\n",
    "x = list(range(1, epochs+1))\n",
    "\n",
    "vy = hist3.history['val_loss']\n",
    "ty = hist3.history['loss']\n",
    "plt_dynamic(x, vy, ty, ax)"
   ]
  },
  {
   "cell_type": "markdown",
   "metadata": {},
   "source": [
    "**summary**\n",
    "Here if we see as the number of epochs increases trian loss and validation loss decreases, and if we notice validation loss is \n",
    "increases after few epochs and again decrease and gradually converges,this is also performing similar to two layer and five layer\n",
    "conv net, giving high accuracy i.e more than 99% and this is a terrific result and the model is performing very well."
   ]
  },
  {
   "cell_type": "markdown",
   "metadata": {},
   "source": [
    "# Conclusions "
   ]
  },
  {
   "cell_type": "code",
   "execution_count": 1,
   "metadata": {
    "colab": {
     "base_uri": "https://localhost:8080/",
     "height": 145
    },
    "colab_type": "code",
    "id": "mpa17RLBnw8H",
    "outputId": "a641f95d-aff5-42c1-e2e9-403bef3a4ab9"
   },
   "outputs": [
    {
     "name": "stdout",
     "output_type": "stream",
     "text": [
      "+-------------+-----------+---------------+\n",
      "|    Model    | Test loss | Test Accuracy |\n",
      "+-------------+-----------+---------------+\n",
      "| 3-layer cnn |   0.027   |     0.992     |\n",
      "| 5-layer cnn |   0.028   |     0.992     |\n",
      "| 7-layer cnn |   0.024   |     0.993     |\n",
      "+-------------+-----------+---------------+\n"
     ]
    }
   ],
   "source": [
    "from prettytable import PrettyTable\n",
    "   \n",
    "pt = PrettyTable()\n",
    "\n",
    "pt.field_names = [\"Model\", \"Test loss\",\"Test Accuracy\"]\n",
    "\n",
    "pt.add_row([\"3-layer cnn\", \"0.027\", \"0.992\"])\n",
    "pt.add_row([\"5-layer cnn\", \"0.028\", \"0.992\"])\n",
    "pt.add_row([\"7-layer cnn\", \"0.024\", \"0.993\"])\n",
    "\n",
    "print(pt)"
   ]
  },
  {
   "cell_type": "markdown",
   "metadata": {},
   "source": [
    "1. Here if we notice we are getting terrific results  in all the models.\n",
    "2. Also we are converging very fast just for few epochs.\n",
    "3. if we notice there is a very slight increase in test accuracy as the number of layers increases."
   ]
  },
  {
   "cell_type": "markdown",
   "metadata": {
    "colab_type": "text",
    "id": "hh8KYS6o_kTm"
   },
   "source": [
    "                         "
   ]
  }
 ],
 "metadata": {
  "colab": {
   "collapsed_sections": [],
   "name": "cnnmodified.ipynb",
   "provenance": [],
   "version": "0.3.2"
  },
  "kernelspec": {
   "display_name": "Python 3",
   "language": "python",
   "name": "python3"
  },
  "language_info": {
   "codemirror_mode": {
    "name": "ipython",
    "version": 3
   },
   "file_extension": ".py",
   "mimetype": "text/x-python",
   "name": "python",
   "nbconvert_exporter": "python",
   "pygments_lexer": "ipython3",
   "version": "3.6.5"
  }
 },
 "nbformat": 4,
 "nbformat_minor": 1
}

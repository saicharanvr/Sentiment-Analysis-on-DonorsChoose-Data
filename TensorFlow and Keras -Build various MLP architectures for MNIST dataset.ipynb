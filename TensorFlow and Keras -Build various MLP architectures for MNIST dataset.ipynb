{
 "cells": [
  {
   "cell_type": "markdown",
   "metadata": {
    "colab_type": "text",
    "id": "UTJmsXnXQKbG"
   },
   "source": [
    "## Keras -- MLPs on MNIST"
   ]
  },
  {
   "cell_type": "code",
   "execution_count": 2,
   "metadata": {
    "colab": {},
    "colab_type": "code",
    "id": "2UILABPAQKbH"
   },
   "outputs": [
    {
     "name": "stderr",
     "output_type": "stream",
     "text": [
      "C:\\Users\\saicharan\\Anaconda3\\lib\\site-packages\\h5py\\__init__.py:36: FutureWarning: Conversion of the second argument of issubdtype from `float` to `np.floating` is deprecated. In future, it will be treated as `np.float64 == np.dtype(float).type`.\n",
      "  from ._conv import register_converters as _register_converters\n",
      "Using TensorFlow backend.\n"
     ]
    }
   ],
   "source": [
    "# if you keras is not using tensorflow as backend set \"KERAS_BACKEND=tensorflow\" use this command\n",
    "from keras.utils import np_utils \n",
    "from keras.datasets import mnist \n",
    "import seaborn as sns\n",
    "from keras.initializers import RandomNormal"
   ]
  },
  {
   "cell_type": "code",
   "execution_count": 0,
   "metadata": {
    "colab": {},
    "colab_type": "code",
    "id": "lOO-TM_7QKbM"
   },
   "outputs": [],
   "source": [
    "%matplotlib notebook\n",
    "%matplotlib inline\n",
    "import matplotlib.pyplot as plt\n",
    "import numpy as np\n",
    "import time\n",
    "# https://gist.github.com/greydanus/f6eee59eaf1d90fcb3b534a25362cea4\n",
    "# https://stackoverflow.com/a/14434334\n",
    "# this function is used to update the plots for each epoch and error\n",
    "def plt_dynamic(x, vy, ty, ax, colors=['b']):\n",
    "    plt.plot(x, vy, 'b', label=\"Validation Loss\")\n",
    "    plt.plot(x, ty, 'r', label=\"Train Loss\")\n",
    "    plt.legend()\n",
    "    plt.grid()\n",
    "    plt.show()"
   ]
  },
  {
   "cell_type": "code",
   "execution_count": 0,
   "metadata": {
    "colab": {},
    "colab_type": "code",
    "id": "TKmYKnibQKbQ"
   },
   "outputs": [],
   "source": [
    "# the data, shuffled and split between train and test sets \n",
    "(X_train, y_train), (X_test, y_test) = mnist.load_data()"
   ]
  },
  {
   "cell_type": "code",
   "execution_count": 64,
   "metadata": {
    "colab": {
     "base_uri": "https://localhost:8080/",
     "height": 54
    },
    "colab_type": "code",
    "executionInfo": {
     "elapsed": 1353,
     "status": "ok",
     "timestamp": 1555841109112,
     "user": {
      "displayName": "saicharan vr",
      "photoUrl": "https://lh6.googleusercontent.com/-9c76VlghUpg/AAAAAAAAAAI/AAAAAAAAKCQ/qEBB6UkNMqc/s64/photo.jpg",
      "userId": "04851133143274740409"
     },
     "user_tz": -330
    },
    "id": "CCwnZae-QKbT",
    "outputId": "861c6624-940f-4d10-8a35-81fdb2b1920b"
   },
   "outputs": [
    {
     "name": "stdout",
     "output_type": "stream",
     "text": [
      "Number of training examples : 60000 and each image is of shape (28, 28)\n",
      "Number of training examples : 10000 and each image is of shape (28, 28)\n"
     ]
    }
   ],
   "source": [
    "print(\"Number of training examples :\", X_train.shape[0], \"and each image is of shape (%d, %d)\"%(X_train.shape[1], X_train.shape[2]))\n",
    "print(\"Number of training examples :\", X_test.shape[0], \"and each image is of shape (%d, %d)\"%(X_test.shape[1], X_test.shape[2]))"
   ]
  },
  {
   "cell_type": "code",
   "execution_count": 0,
   "metadata": {
    "colab": {},
    "colab_type": "code",
    "id": "BlotuCmoQKbW"
   },
   "outputs": [],
   "source": [
    "# if you observe the input shape its 2 dimensional vector\n",
    "# for each image we have a (28*28) vector\n",
    "# we will convert the (28*28) vector into single dimensional vector of 1 * 784 \n",
    "\n",
    "X_train = X_train.reshape(X_train.shape[0], X_train.shape[1]*X_train.shape[2]) \n",
    "X_test = X_test.reshape(X_test.shape[0], X_test.shape[1]*X_test.shape[2]) "
   ]
  },
  {
   "cell_type": "code",
   "execution_count": 14,
   "metadata": {
    "colab": {
     "base_uri": "https://localhost:8080/",
     "height": 54
    },
    "colab_type": "code",
    "executionInfo": {
     "elapsed": 1085,
     "status": "ok",
     "timestamp": 1555823291306,
     "user": {
      "displayName": "saicharan vr",
      "photoUrl": "https://lh6.googleusercontent.com/-9c76VlghUpg/AAAAAAAAAAI/AAAAAAAAKCQ/qEBB6UkNMqc/s64/photo.jpg",
      "userId": "04851133143274740409"
     },
     "user_tz": -330
    },
    "id": "8JvpNJy4QKbY",
    "outputId": "85911062-73e2-414f-afd4-38771f35e69a"
   },
   "outputs": [
    {
     "name": "stdout",
     "output_type": "stream",
     "text": [
      "Number of training examples : 60000 and each image is of shape (784)\n",
      "Number of training examples : 10000 and each image is of shape (784)\n"
     ]
    }
   ],
   "source": [
    "# after converting the input images from 3d to 2d vectors\n",
    "\n",
    "print(\"Number of training examples :\", X_train.shape[0], \"and each image is of shape (%d)\"%(X_train.shape[1]))\n",
    "print(\"Number of training examples :\", X_test.shape[0], \"and each image is of shape (%d)\"%(X_test.shape[1]))"
   ]
  },
  {
   "cell_type": "code",
   "execution_count": 15,
   "metadata": {
    "colab": {
     "base_uri": "https://localhost:8080/",
     "height": 2399
    },
    "colab_type": "code",
    "executionInfo": {
     "elapsed": 963,
     "status": "ok",
     "timestamp": 1555823292798,
     "user": {
      "displayName": "saicharan vr",
      "photoUrl": "https://lh6.googleusercontent.com/-9c76VlghUpg/AAAAAAAAAAI/AAAAAAAAKCQ/qEBB6UkNMqc/s64/photo.jpg",
      "userId": "04851133143274740409"
     },
     "user_tz": -330
    },
    "id": "qvuaHDk0QKbb",
    "outputId": "0844f3c3-aaf8-4188-af85-c66b4d3fa0bd"
   },
   "outputs": [
    {
     "name": "stdout",
     "output_type": "stream",
     "text": [
      "[0.         0.         0.         0.         0.         0.\n",
      " 0.         0.         0.         0.         0.         0.\n",
      " 0.         0.         0.         0.         0.         0.\n",
      " 0.         0.         0.         0.         0.         0.\n",
      " 0.         0.         0.         0.         0.         0.\n",
      " 0.         0.         0.         0.         0.         0.\n",
      " 0.         0.         0.         0.         0.         0.\n",
      " 0.         0.         0.         0.         0.         0.\n",
      " 0.         0.         0.         0.         0.         0.\n",
      " 0.         0.         0.         0.         0.         0.\n",
      " 0.         0.         0.         0.         0.         0.\n",
      " 0.         0.         0.         0.         0.         0.\n",
      " 0.         0.         0.         0.         0.         0.\n",
      " 0.         0.         0.         0.         0.         0.\n",
      " 0.         0.         0.         0.         0.         0.\n",
      " 0.         0.         0.         0.         0.         0.\n",
      " 0.         0.         0.         0.         0.         0.\n",
      " 0.         0.         0.         0.         0.         0.\n",
      " 0.         0.         0.         0.         0.         0.\n",
      " 0.         0.         0.         0.         0.         0.\n",
      " 0.         0.         0.         0.         0.         0.\n",
      " 0.         0.         0.         0.         0.         0.\n",
      " 0.         0.         0.         0.         0.         0.\n",
      " 0.         0.         0.         0.         0.         0.\n",
      " 0.         0.         0.         0.         0.         0.\n",
      " 0.         0.         0.01176471 0.07058824 0.07058824 0.07058824\n",
      " 0.49411765 0.53333333 0.68627451 0.10196078 0.65098039 1.\n",
      " 0.96862745 0.49803922 0.         0.         0.         0.\n",
      " 0.         0.         0.         0.         0.         0.\n",
      " 0.         0.         0.11764706 0.14117647 0.36862745 0.60392157\n",
      " 0.66666667 0.99215686 0.99215686 0.99215686 0.99215686 0.99215686\n",
      " 0.88235294 0.6745098  0.99215686 0.94901961 0.76470588 0.25098039\n",
      " 0.         0.         0.         0.         0.         0.\n",
      " 0.         0.         0.         0.         0.         0.19215686\n",
      " 0.93333333 0.99215686 0.99215686 0.99215686 0.99215686 0.99215686\n",
      " 0.99215686 0.99215686 0.99215686 0.98431373 0.36470588 0.32156863\n",
      " 0.32156863 0.21960784 0.15294118 0.         0.         0.\n",
      " 0.         0.         0.         0.         0.         0.\n",
      " 0.         0.         0.         0.07058824 0.85882353 0.99215686\n",
      " 0.99215686 0.99215686 0.99215686 0.99215686 0.77647059 0.71372549\n",
      " 0.96862745 0.94509804 0.         0.         0.         0.\n",
      " 0.         0.         0.         0.         0.         0.\n",
      " 0.         0.         0.         0.         0.         0.\n",
      " 0.         0.         0.31372549 0.61176471 0.41960784 0.99215686\n",
      " 0.99215686 0.80392157 0.04313725 0.         0.16862745 0.60392157\n",
      " 0.         0.         0.         0.         0.         0.\n",
      " 0.         0.         0.         0.         0.         0.\n",
      " 0.         0.         0.         0.         0.         0.\n",
      " 0.         0.05490196 0.00392157 0.60392157 0.99215686 0.35294118\n",
      " 0.         0.         0.         0.         0.         0.\n",
      " 0.         0.         0.         0.         0.         0.\n",
      " 0.         0.         0.         0.         0.         0.\n",
      " 0.         0.         0.         0.         0.         0.\n",
      " 0.         0.54509804 0.99215686 0.74509804 0.00784314 0.\n",
      " 0.         0.         0.         0.         0.         0.\n",
      " 0.         0.         0.         0.         0.         0.\n",
      " 0.         0.         0.         0.         0.         0.\n",
      " 0.         0.         0.         0.         0.         0.04313725\n",
      " 0.74509804 0.99215686 0.2745098  0.         0.         0.\n",
      " 0.         0.         0.         0.         0.         0.\n",
      " 0.         0.         0.         0.         0.         0.\n",
      " 0.         0.         0.         0.         0.         0.\n",
      " 0.         0.         0.         0.         0.1372549  0.94509804\n",
      " 0.88235294 0.62745098 0.42352941 0.00392157 0.         0.\n",
      " 0.         0.         0.         0.         0.         0.\n",
      " 0.         0.         0.         0.         0.         0.\n",
      " 0.         0.         0.         0.         0.         0.\n",
      " 0.         0.         0.         0.31764706 0.94117647 0.99215686\n",
      " 0.99215686 0.46666667 0.09803922 0.         0.         0.\n",
      " 0.         0.         0.         0.         0.         0.\n",
      " 0.         0.         0.         0.         0.         0.\n",
      " 0.         0.         0.         0.         0.         0.\n",
      " 0.         0.         0.17647059 0.72941176 0.99215686 0.99215686\n",
      " 0.58823529 0.10588235 0.         0.         0.         0.\n",
      " 0.         0.         0.         0.         0.         0.\n",
      " 0.         0.         0.         0.         0.         0.\n",
      " 0.         0.         0.         0.         0.         0.\n",
      " 0.         0.0627451  0.36470588 0.98823529 0.99215686 0.73333333\n",
      " 0.         0.         0.         0.         0.         0.\n",
      " 0.         0.         0.         0.         0.         0.\n",
      " 0.         0.         0.         0.         0.         0.\n",
      " 0.         0.         0.         0.         0.         0.\n",
      " 0.         0.97647059 0.99215686 0.97647059 0.25098039 0.\n",
      " 0.         0.         0.         0.         0.         0.\n",
      " 0.         0.         0.         0.         0.         0.\n",
      " 0.         0.         0.         0.         0.         0.\n",
      " 0.         0.         0.18039216 0.50980392 0.71764706 0.99215686\n",
      " 0.99215686 0.81176471 0.00784314 0.         0.         0.\n",
      " 0.         0.         0.         0.         0.         0.\n",
      " 0.         0.         0.         0.         0.         0.\n",
      " 0.         0.         0.         0.         0.15294118 0.58039216\n",
      " 0.89803922 0.99215686 0.99215686 0.99215686 0.98039216 0.71372549\n",
      " 0.         0.         0.         0.         0.         0.\n",
      " 0.         0.         0.         0.         0.         0.\n",
      " 0.         0.         0.         0.         0.         0.\n",
      " 0.09411765 0.44705882 0.86666667 0.99215686 0.99215686 0.99215686\n",
      " 0.99215686 0.78823529 0.30588235 0.         0.         0.\n",
      " 0.         0.         0.         0.         0.         0.\n",
      " 0.         0.         0.         0.         0.         0.\n",
      " 0.         0.         0.09019608 0.25882353 0.83529412 0.99215686\n",
      " 0.99215686 0.99215686 0.99215686 0.77647059 0.31764706 0.00784314\n",
      " 0.         0.         0.         0.         0.         0.\n",
      " 0.         0.         0.         0.         0.         0.\n",
      " 0.         0.         0.         0.         0.07058824 0.67058824\n",
      " 0.85882353 0.99215686 0.99215686 0.99215686 0.99215686 0.76470588\n",
      " 0.31372549 0.03529412 0.         0.         0.         0.\n",
      " 0.         0.         0.         0.         0.         0.\n",
      " 0.         0.         0.         0.         0.         0.\n",
      " 0.21568627 0.6745098  0.88627451 0.99215686 0.99215686 0.99215686\n",
      " 0.99215686 0.95686275 0.52156863 0.04313725 0.         0.\n",
      " 0.         0.         0.         0.         0.         0.\n",
      " 0.         0.         0.         0.         0.         0.\n",
      " 0.         0.         0.         0.         0.53333333 0.99215686\n",
      " 0.99215686 0.99215686 0.83137255 0.52941176 0.51764706 0.0627451\n",
      " 0.         0.         0.         0.         0.         0.\n",
      " 0.         0.         0.         0.         0.         0.\n",
      " 0.         0.         0.         0.         0.         0.\n",
      " 0.         0.         0.         0.         0.         0.\n",
      " 0.         0.         0.         0.         0.         0.\n",
      " 0.         0.         0.         0.         0.         0.\n",
      " 0.         0.         0.         0.         0.         0.\n",
      " 0.         0.         0.         0.         0.         0.\n",
      " 0.         0.         0.         0.         0.         0.\n",
      " 0.         0.         0.         0.         0.         0.\n",
      " 0.         0.         0.         0.         0.         0.\n",
      " 0.         0.         0.         0.         0.         0.\n",
      " 0.         0.         0.         0.         0.         0.\n",
      " 0.         0.         0.         0.         0.         0.\n",
      " 0.         0.         0.         0.         0.         0.\n",
      " 0.         0.         0.         0.         0.         0.\n",
      " 0.         0.         0.         0.        ]\n"
     ]
    }
   ],
   "source": [
    "# An example data point\n",
    "print(X_train[0])"
   ]
  },
  {
   "cell_type": "code",
   "execution_count": 0,
   "metadata": {
    "colab": {},
    "colab_type": "code",
    "id": "lfohtdKPQKbd"
   },
   "outputs": [],
   "source": [
    "# if we observe the above matrix each cell is having a value between 0-255\n",
    "# before we move to apply machine learning algorithms lets try to normalize the data\n",
    "# X => (X - Xmin)/(Xmax-Xmin) = X/255\n",
    "\n",
    "X_train = X_train/255\n",
    "X_test = X_test/255"
   ]
  },
  {
   "cell_type": "code",
   "execution_count": 16,
   "metadata": {
    "colab": {
     "base_uri": "https://localhost:8080/",
     "height": 2399
    },
    "colab_type": "code",
    "executionInfo": {
     "elapsed": 1140,
     "status": "ok",
     "timestamp": 1555823298025,
     "user": {
      "displayName": "saicharan vr",
      "photoUrl": "https://lh6.googleusercontent.com/-9c76VlghUpg/AAAAAAAAAAI/AAAAAAAAKCQ/qEBB6UkNMqc/s64/photo.jpg",
      "userId": "04851133143274740409"
     },
     "user_tz": -330
    },
    "id": "4C-dmsXJQKbf",
    "outputId": "625189de-1d17-492a-f798-00962c4b3f22"
   },
   "outputs": [
    {
     "name": "stdout",
     "output_type": "stream",
     "text": [
      "[0.         0.         0.         0.         0.         0.\n",
      " 0.         0.         0.         0.         0.         0.\n",
      " 0.         0.         0.         0.         0.         0.\n",
      " 0.         0.         0.         0.         0.         0.\n",
      " 0.         0.         0.         0.         0.         0.\n",
      " 0.         0.         0.         0.         0.         0.\n",
      " 0.         0.         0.         0.         0.         0.\n",
      " 0.         0.         0.         0.         0.         0.\n",
      " 0.         0.         0.         0.         0.         0.\n",
      " 0.         0.         0.         0.         0.         0.\n",
      " 0.         0.         0.         0.         0.         0.\n",
      " 0.         0.         0.         0.         0.         0.\n",
      " 0.         0.         0.         0.         0.         0.\n",
      " 0.         0.         0.         0.         0.         0.\n",
      " 0.         0.         0.         0.         0.         0.\n",
      " 0.         0.         0.         0.         0.         0.\n",
      " 0.         0.         0.         0.         0.         0.\n",
      " 0.         0.         0.         0.         0.         0.\n",
      " 0.         0.         0.         0.         0.         0.\n",
      " 0.         0.         0.         0.         0.         0.\n",
      " 0.         0.         0.         0.         0.         0.\n",
      " 0.         0.         0.         0.         0.         0.\n",
      " 0.         0.         0.         0.         0.         0.\n",
      " 0.         0.         0.         0.         0.         0.\n",
      " 0.         0.         0.         0.         0.         0.\n",
      " 0.         0.         0.01176471 0.07058824 0.07058824 0.07058824\n",
      " 0.49411765 0.53333333 0.68627451 0.10196078 0.65098039 1.\n",
      " 0.96862745 0.49803922 0.         0.         0.         0.\n",
      " 0.         0.         0.         0.         0.         0.\n",
      " 0.         0.         0.11764706 0.14117647 0.36862745 0.60392157\n",
      " 0.66666667 0.99215686 0.99215686 0.99215686 0.99215686 0.99215686\n",
      " 0.88235294 0.6745098  0.99215686 0.94901961 0.76470588 0.25098039\n",
      " 0.         0.         0.         0.         0.         0.\n",
      " 0.         0.         0.         0.         0.         0.19215686\n",
      " 0.93333333 0.99215686 0.99215686 0.99215686 0.99215686 0.99215686\n",
      " 0.99215686 0.99215686 0.99215686 0.98431373 0.36470588 0.32156863\n",
      " 0.32156863 0.21960784 0.15294118 0.         0.         0.\n",
      " 0.         0.         0.         0.         0.         0.\n",
      " 0.         0.         0.         0.07058824 0.85882353 0.99215686\n",
      " 0.99215686 0.99215686 0.99215686 0.99215686 0.77647059 0.71372549\n",
      " 0.96862745 0.94509804 0.         0.         0.         0.\n",
      " 0.         0.         0.         0.         0.         0.\n",
      " 0.         0.         0.         0.         0.         0.\n",
      " 0.         0.         0.31372549 0.61176471 0.41960784 0.99215686\n",
      " 0.99215686 0.80392157 0.04313725 0.         0.16862745 0.60392157\n",
      " 0.         0.         0.         0.         0.         0.\n",
      " 0.         0.         0.         0.         0.         0.\n",
      " 0.         0.         0.         0.         0.         0.\n",
      " 0.         0.05490196 0.00392157 0.60392157 0.99215686 0.35294118\n",
      " 0.         0.         0.         0.         0.         0.\n",
      " 0.         0.         0.         0.         0.         0.\n",
      " 0.         0.         0.         0.         0.         0.\n",
      " 0.         0.         0.         0.         0.         0.\n",
      " 0.         0.54509804 0.99215686 0.74509804 0.00784314 0.\n",
      " 0.         0.         0.         0.         0.         0.\n",
      " 0.         0.         0.         0.         0.         0.\n",
      " 0.         0.         0.         0.         0.         0.\n",
      " 0.         0.         0.         0.         0.         0.04313725\n",
      " 0.74509804 0.99215686 0.2745098  0.         0.         0.\n",
      " 0.         0.         0.         0.         0.         0.\n",
      " 0.         0.         0.         0.         0.         0.\n",
      " 0.         0.         0.         0.         0.         0.\n",
      " 0.         0.         0.         0.         0.1372549  0.94509804\n",
      " 0.88235294 0.62745098 0.42352941 0.00392157 0.         0.\n",
      " 0.         0.         0.         0.         0.         0.\n",
      " 0.         0.         0.         0.         0.         0.\n",
      " 0.         0.         0.         0.         0.         0.\n",
      " 0.         0.         0.         0.31764706 0.94117647 0.99215686\n",
      " 0.99215686 0.46666667 0.09803922 0.         0.         0.\n",
      " 0.         0.         0.         0.         0.         0.\n",
      " 0.         0.         0.         0.         0.         0.\n",
      " 0.         0.         0.         0.         0.         0.\n",
      " 0.         0.         0.17647059 0.72941176 0.99215686 0.99215686\n",
      " 0.58823529 0.10588235 0.         0.         0.         0.\n",
      " 0.         0.         0.         0.         0.         0.\n",
      " 0.         0.         0.         0.         0.         0.\n",
      " 0.         0.         0.         0.         0.         0.\n",
      " 0.         0.0627451  0.36470588 0.98823529 0.99215686 0.73333333\n",
      " 0.         0.         0.         0.         0.         0.\n",
      " 0.         0.         0.         0.         0.         0.\n",
      " 0.         0.         0.         0.         0.         0.\n",
      " 0.         0.         0.         0.         0.         0.\n",
      " 0.         0.97647059 0.99215686 0.97647059 0.25098039 0.\n",
      " 0.         0.         0.         0.         0.         0.\n",
      " 0.         0.         0.         0.         0.         0.\n",
      " 0.         0.         0.         0.         0.         0.\n",
      " 0.         0.         0.18039216 0.50980392 0.71764706 0.99215686\n",
      " 0.99215686 0.81176471 0.00784314 0.         0.         0.\n",
      " 0.         0.         0.         0.         0.         0.\n",
      " 0.         0.         0.         0.         0.         0.\n",
      " 0.         0.         0.         0.         0.15294118 0.58039216\n",
      " 0.89803922 0.99215686 0.99215686 0.99215686 0.98039216 0.71372549\n",
      " 0.         0.         0.         0.         0.         0.\n",
      " 0.         0.         0.         0.         0.         0.\n",
      " 0.         0.         0.         0.         0.         0.\n",
      " 0.09411765 0.44705882 0.86666667 0.99215686 0.99215686 0.99215686\n",
      " 0.99215686 0.78823529 0.30588235 0.         0.         0.\n",
      " 0.         0.         0.         0.         0.         0.\n",
      " 0.         0.         0.         0.         0.         0.\n",
      " 0.         0.         0.09019608 0.25882353 0.83529412 0.99215686\n",
      " 0.99215686 0.99215686 0.99215686 0.77647059 0.31764706 0.00784314\n",
      " 0.         0.         0.         0.         0.         0.\n",
      " 0.         0.         0.         0.         0.         0.\n",
      " 0.         0.         0.         0.         0.07058824 0.67058824\n",
      " 0.85882353 0.99215686 0.99215686 0.99215686 0.99215686 0.76470588\n",
      " 0.31372549 0.03529412 0.         0.         0.         0.\n",
      " 0.         0.         0.         0.         0.         0.\n",
      " 0.         0.         0.         0.         0.         0.\n",
      " 0.21568627 0.6745098  0.88627451 0.99215686 0.99215686 0.99215686\n",
      " 0.99215686 0.95686275 0.52156863 0.04313725 0.         0.\n",
      " 0.         0.         0.         0.         0.         0.\n",
      " 0.         0.         0.         0.         0.         0.\n",
      " 0.         0.         0.         0.         0.53333333 0.99215686\n",
      " 0.99215686 0.99215686 0.83137255 0.52941176 0.51764706 0.0627451\n",
      " 0.         0.         0.         0.         0.         0.\n",
      " 0.         0.         0.         0.         0.         0.\n",
      " 0.         0.         0.         0.         0.         0.\n",
      " 0.         0.         0.         0.         0.         0.\n",
      " 0.         0.         0.         0.         0.         0.\n",
      " 0.         0.         0.         0.         0.         0.\n",
      " 0.         0.         0.         0.         0.         0.\n",
      " 0.         0.         0.         0.         0.         0.\n",
      " 0.         0.         0.         0.         0.         0.\n",
      " 0.         0.         0.         0.         0.         0.\n",
      " 0.         0.         0.         0.         0.         0.\n",
      " 0.         0.         0.         0.         0.         0.\n",
      " 0.         0.         0.         0.         0.         0.\n",
      " 0.         0.         0.         0.         0.         0.\n",
      " 0.         0.         0.         0.         0.         0.\n",
      " 0.         0.         0.         0.         0.         0.\n",
      " 0.         0.         0.         0.        ]\n"
     ]
    }
   ],
   "source": [
    "# example data point after normlizing\n",
    "print(X_train[0])"
   ]
  },
  {
   "cell_type": "code",
   "execution_count": 6,
   "metadata": {
    "colab": {
     "base_uri": "https://localhost:8080/",
     "height": 54
    },
    "colab_type": "code",
    "executionInfo": {
     "elapsed": 1120,
     "status": "ok",
     "timestamp": 1555823163499,
     "user": {
      "displayName": "saicharan vr",
      "photoUrl": "https://lh6.googleusercontent.com/-9c76VlghUpg/AAAAAAAAAAI/AAAAAAAAKCQ/qEBB6UkNMqc/s64/photo.jpg",
      "userId": "04851133143274740409"
     },
     "user_tz": -330
    },
    "id": "3Ruu-vXzQKbi",
    "outputId": "92737e67-99f0-461d-eb71-1c05c84d06d5"
   },
   "outputs": [
    {
     "name": "stdout",
     "output_type": "stream",
     "text": [
      "Class label of first image : 5\n",
      "After converting the output into a vector :  [0. 0. 0. 0. 0. 1. 0. 0. 0. 0.]\n"
     ]
    }
   ],
   "source": [
    "# here we are having a class number for each image\n",
    "print(\"Class label of first image :\", y_train[0])\n",
    "\n",
    "# lets convert this into a 10 dimensional vector\n",
    "# ex: consider an image is 5 convert it into 5 => [0, 0, 0, 0, 0, 1, 0, 0, 0, 0]\n",
    "# this conversion needed for MLPs \n",
    "\n",
    "Y_train = np_utils.to_categorical(y_train, 10) \n",
    "Y_test = np_utils.to_categorical(y_test, 10)\n",
    "\n",
    "print(\"After converting the output into a vector : \",Y_train[0])"
   ]
  },
  {
   "cell_type": "code",
   "execution_count": 0,
   "metadata": {
    "colab": {},
    "colab_type": "code",
    "id": "tLAGMubCQKbm"
   },
   "outputs": [],
   "source": [
    "\n",
    "from keras.models import Sequential \n",
    "from keras.layers import Dense, Activation "
   ]
  },
  {
   "cell_type": "code",
   "execution_count": 0,
   "metadata": {
    "colab": {},
    "colab_type": "code",
    "id": "I0s7jzhVQKbn"
   },
   "outputs": [],
   "source": [
    "# some model parameters\n",
    "\n",
    "output_dim = 10\n",
    "input_dim = X_train.shape[1]\n",
    "\n",
    "batch_size = 128 \n",
    "nb_epoch = 20"
   ]
  },
  {
   "cell_type": "markdown",
   "metadata": {
    "colab_type": "text",
    "id": "VzuuF6Kl2y3l"
   },
   "source": [
    "# MODEL-1 with two hidden layers (784-324-124-10)"
   ]
  },
  {
   "cell_type": "markdown",
   "metadata": {
    "colab_type": "text",
    "id": "9ccmfiVGQKcc"
   },
   "source": [
    "<h2> 1.1 MLP + ReLU + ADAM </h2>"
   ]
  },
  {
   "cell_type": "code",
   "execution_count": 17,
   "metadata": {
    "colab": {
     "base_uri": "https://localhost:8080/",
     "height": 1017
    },
    "colab_type": "code",
    "executionInfo": {
     "elapsed": 38857,
     "status": "ok",
     "timestamp": 1555823370118,
     "user": {
      "displayName": "saicharan vr",
      "photoUrl": "https://lh6.googleusercontent.com/-9c76VlghUpg/AAAAAAAAAAI/AAAAAAAAKCQ/qEBB6UkNMqc/s64/photo.jpg",
      "userId": "04851133143274740409"
     },
     "user_tz": -330
    },
    "id": "-CtwrinkQKcc",
    "outputId": "0fef095a-de90-4c1d-dce0-9f29a3fb3ad0"
   },
   "outputs": [
    {
     "name": "stdout",
     "output_type": "stream",
     "text": [
      "_________________________________________________________________\n",
      "Layer (type)                 Output Shape              Param #   \n",
      "=================================================================\n",
      "dense_4 (Dense)              (None, 324)               254340    \n",
      "_________________________________________________________________\n",
      "dense_5 (Dense)              (None, 124)               40300     \n",
      "_________________________________________________________________\n",
      "dense_6 (Dense)              (None, 10)                1250      \n",
      "=================================================================\n",
      "Total params: 295,890\n",
      "Trainable params: 295,890\n",
      "Non-trainable params: 0\n",
      "_________________________________________________________________\n",
      "None\n",
      "Train on 60000 samples, validate on 10000 samples\n",
      "Epoch 1/20\n",
      "60000/60000 [==============================] - 2s 35us/step - loss: 0.2518 - acc: 0.9272 - val_loss: 0.1157 - val_acc: 0.9651\n",
      "Epoch 2/20\n",
      "60000/60000 [==============================] - 2s 31us/step - loss: 0.0939 - acc: 0.9715 - val_loss: 0.0850 - val_acc: 0.9750\n",
      "Epoch 3/20\n",
      "60000/60000 [==============================] - 2s 31us/step - loss: 0.0576 - acc: 0.9818 - val_loss: 0.0845 - val_acc: 0.9731\n",
      "Epoch 4/20\n",
      "60000/60000 [==============================] - 2s 31us/step - loss: 0.0433 - acc: 0.9866 - val_loss: 0.0684 - val_acc: 0.9780\n",
      "Epoch 5/20\n",
      "60000/60000 [==============================] - 2s 32us/step - loss: 0.0314 - acc: 0.9902 - val_loss: 0.0753 - val_acc: 0.9774\n",
      "Epoch 6/20\n",
      "60000/60000 [==============================] - 2s 31us/step - loss: 0.0238 - acc: 0.9926 - val_loss: 0.0727 - val_acc: 0.9780\n",
      "Epoch 7/20\n",
      "60000/60000 [==============================] - 2s 31us/step - loss: 0.0184 - acc: 0.9939 - val_loss: 0.0779 - val_acc: 0.9789\n",
      "Epoch 8/20\n",
      "60000/60000 [==============================] - 2s 32us/step - loss: 0.0140 - acc: 0.9956 - val_loss: 0.0741 - val_acc: 0.9803\n",
      "Epoch 9/20\n",
      "60000/60000 [==============================] - 2s 31us/step - loss: 0.0153 - acc: 0.9947 - val_loss: 0.0792 - val_acc: 0.9783\n",
      "Epoch 10/20\n",
      "60000/60000 [==============================] - 2s 31us/step - loss: 0.0129 - acc: 0.9955 - val_loss: 0.0786 - val_acc: 0.9795\n",
      "Epoch 11/20\n",
      "60000/60000 [==============================] - 2s 31us/step - loss: 0.0085 - acc: 0.9974 - val_loss: 0.0773 - val_acc: 0.9805\n",
      "Epoch 12/20\n",
      "60000/60000 [==============================] - 2s 31us/step - loss: 0.0084 - acc: 0.9971 - val_loss: 0.0850 - val_acc: 0.9813\n",
      "Epoch 13/20\n",
      "60000/60000 [==============================] - 2s 31us/step - loss: 0.0118 - acc: 0.9957 - val_loss: 0.0907 - val_acc: 0.9800\n",
      "Epoch 14/20\n",
      "60000/60000 [==============================] - 2s 31us/step - loss: 0.0109 - acc: 0.9959 - val_loss: 0.0947 - val_acc: 0.9788\n",
      "Epoch 15/20\n",
      "60000/60000 [==============================] - 2s 31us/step - loss: 0.0058 - acc: 0.9981 - val_loss: 0.0805 - val_acc: 0.9825\n",
      "Epoch 16/20\n",
      "60000/60000 [==============================] - 2s 31us/step - loss: 0.0089 - acc: 0.9970 - val_loss: 0.0996 - val_acc: 0.9789\n",
      "Epoch 17/20\n",
      "60000/60000 [==============================] - 2s 31us/step - loss: 0.0108 - acc: 0.9963 - val_loss: 0.0962 - val_acc: 0.9806\n",
      "Epoch 18/20\n",
      "60000/60000 [==============================] - 2s 31us/step - loss: 0.0048 - acc: 0.9984 - val_loss: 0.0848 - val_acc: 0.9826\n",
      "Epoch 19/20\n",
      "60000/60000 [==============================] - 2s 31us/step - loss: 0.0047 - acc: 0.9985 - val_loss: 0.0907 - val_acc: 0.9823\n",
      "Epoch 20/20\n",
      "60000/60000 [==============================] - 2s 31us/step - loss: 0.0080 - acc: 0.9973 - val_loss: 0.0882 - val_acc: 0.9818\n"
     ]
    }
   ],
   "source": [
    "model_relu = Sequential()\n",
    "model_relu.add(Dense(324, activation='relu', input_shape=(input_dim,), kernel_initializer= 'he_normal'))\n",
    "model_relu.add(Dense(124, activation='relu', kernel_initializer='he_normal' ))\n",
    "model_relu.add(Dense(output_dim, activation='softmax'))\n",
    "\n",
    "print(model_relu.summary())\n",
    "\n",
    "model_relu.compile(optimizer='adam', loss='categorical_crossentropy', metrics=['accuracy'])\n",
    "\n",
    "hist = model_relu.fit(X_train, Y_train, batch_size=batch_size, epochs=nb_epoch, verbose=1, validation_data=(X_test, Y_test))"
   ]
  },
  {
   "cell_type": "code",
   "execution_count": 18,
   "metadata": {
    "colab": {
     "base_uri": "https://localhost:8080/",
     "height": 320
    },
    "colab_type": "code",
    "executionInfo": {
     "elapsed": 2399,
     "status": "ok",
     "timestamp": 1555823480429,
     "user": {
      "displayName": "saicharan vr",
      "photoUrl": "https://lh6.googleusercontent.com/-9c76VlghUpg/AAAAAAAAAAI/AAAAAAAAKCQ/qEBB6UkNMqc/s64/photo.jpg",
      "userId": "04851133143274740409"
     },
     "user_tz": -330
    },
    "id": "niCdh2TUQKce",
    "outputId": "58c2dd37-cbc2-487a-8986-a62184ca47c3"
   },
   "outputs": [
    {
     "name": "stdout",
     "output_type": "stream",
     "text": [
      "Test score: 0.08824123702579437\n",
      "Test accuracy: 0.9818\n"
     ]
    },
    {
     "data": {
      "image/png": "[encoded data removed]",
      "text/plain": [
       "<Figure size 432x288 with 1 Axes>"
      ]
     },
     "metadata": {
      "tags": []
     },
     "output_type": "display_data"
    }
   ],
   "source": [
    "score = model_relu.evaluate(X_test, Y_test, verbose=0) \n",
    "print('Test score:', score[0]) \n",
    "print('Test accuracy:', score[1])\n",
    "\n",
    "fig,ax = plt.subplots(1,1)\n",
    "ax.set_xlabel('epoch') ; ax.set_ylabel('Categorical Crossentropy Loss')\n",
    "\n",
    "# list of epoch numbers\n",
    "x = list(range(1,nb_epoch+1))\n",
    "\n",
    "# print(history.history.keys())\n",
    "# dict_keys(['val_loss', 'val_acc', 'loss', 'acc'])\n",
    "# history = model_drop.fit(X_train, Y_train, batch_size=batch_size, epochs=nb_epoch, verbose=1, validation_data=(X_test, Y_test))\n",
    "\n",
    "# we will get val_loss and val_acc only when you pass the paramter validation_data\n",
    "# val_loss : validation loss\n",
    "# val_acc : validation accuracy\n",
    "\n",
    "# loss : training loss\n",
    "# acc : train accuracy\n",
    "# for each key in histrory.histrory we will have a list of length equal to number of epochs\n",
    "\n",
    "vy = hist.history['val_loss']\n",
    "ty = hist.history['loss']\n",
    "plt_dynamic(x, vy, ty, ax)"
   ]
  },
  {
   "cell_type": "markdown",
   "metadata": {},
   "source": [
    "**summary**\n",
    "Here the train loss keeps decreasing as the no of epochs increases,but the validation loss is not decreasing,it means that the\n",
    "model is overfitting ,here we didnot use batch normalization and dropouts ,and this model is not sensible"
   ]
  },
  {
   "cell_type": "markdown",
   "metadata": {
    "colab_type": "text",
    "id": "TjduBU7hQKch"
   },
   "source": [
    " <h2>1.2 MLP + ReLU + ADAM +Batch Norm  </h2>"
   ]
  },
  {
   "cell_type": "code",
   "execution_count": 20,
   "metadata": {
    "colab": {
     "base_uri": "https://localhost:8080/",
     "height": 326
    },
    "colab_type": "code",
    "executionInfo": {
     "elapsed": 1423,
     "status": "ok",
     "timestamp": 1555823530852,
     "user": {
      "displayName": "saicharan vr",
      "photoUrl": "https://lh6.googleusercontent.com/-9c76VlghUpg/AAAAAAAAAAI/AAAAAAAAKCQ/qEBB6UkNMqc/s64/photo.jpg",
      "userId": "04851133143274740409"
     },
     "user_tz": -330
    },
    "id": "KGHnPnoTQKci",
    "outputId": "32d6645e-ced8-49cc-c03a-717ff2db07d8"
   },
   "outputs": [
    {
     "name": "stdout",
     "output_type": "stream",
     "text": [
      "_________________________________________________________________\n",
      "Layer (type)                 Output Shape              Param #   \n",
      "=================================================================\n",
      "dense_8 (Dense)              (None, 324)               254340    \n",
      "_________________________________________________________________\n",
      "batch_normalization_1 (Batch (None, 324)               1296      \n",
      "_________________________________________________________________\n",
      "dense_9 (Dense)              (None, 124)               40300     \n",
      "_________________________________________________________________\n",
      "batch_normalization_2 (Batch (None, 124)               496       \n",
      "_________________________________________________________________\n",
      "dense_10 (Dense)             (None, 10)                1250      \n",
      "=================================================================\n",
      "Total params: 297,682\n",
      "Trainable params: 296,786\n",
      "Non-trainable params: 896\n",
      "_________________________________________________________________\n"
     ]
    }
   ],
   "source": [
    "# Multilayer perceptron\n",
    "\n",
    "from keras.layers.normalization import BatchNormalization\n",
    "\n",
    "model_batch = Sequential()\n",
    "\n",
    "model_batch.add(Dense(324, activation='relu', input_shape=(input_dim,), kernel_initializer='he_normal'))\n",
    "model_batch.add(BatchNormalization())\n",
    "\n",
    "model_batch.add(Dense(124, activation='relu', kernel_initializer='he_normal') )\n",
    "model_batch.add(BatchNormalization())\n",
    "\n",
    "model_batch.add(Dense(output_dim, activation='softmax'))\n",
    "\n",
    "\n",
    "model_batch.summary()"
   ]
  },
  {
   "cell_type": "code",
   "execution_count": 21,
   "metadata": {
    "colab": {
     "base_uri": "https://localhost:8080/",
     "height": 763
    },
    "colab_type": "code",
    "executionInfo": {
     "elapsed": 65497,
     "status": "ok",
     "timestamp": 1555823607237,
     "user": {
      "displayName": "saicharan vr",
      "photoUrl": "https://lh6.googleusercontent.com/-9c76VlghUpg/AAAAAAAAAAI/AAAAAAAAKCQ/qEBB6UkNMqc/s64/photo.jpg",
      "userId": "04851133143274740409"
     },
     "user_tz": -330
    },
    "id": "yMPo5fcUQKcm",
    "outputId": "0ffd6b9a-97a4-4dc1-b9be-2b7f4647e26a"
   },
   "outputs": [
    {
     "name": "stdout",
     "output_type": "stream",
     "text": [
      "Train on 60000 samples, validate on 10000 samples\n",
      "Epoch 1/20\n",
      "60000/60000 [==============================] - 4s 67us/step - loss: 0.2114 - acc: 0.9366 - val_loss: 0.1220 - val_acc: 0.9609\n",
      "Epoch 2/20\n",
      "60000/60000 [==============================] - 3s 52us/step - loss: 0.0788 - acc: 0.9763 - val_loss: 0.1007 - val_acc: 0.9694\n",
      "Epoch 3/20\n",
      "60000/60000 [==============================] - 3s 53us/step - loss: 0.0502 - acc: 0.9847 - val_loss: 0.0765 - val_acc: 0.9781\n",
      "Epoch 4/20\n",
      "60000/60000 [==============================] - 3s 53us/step - loss: 0.0379 - acc: 0.9883 - val_loss: 0.0882 - val_acc: 0.9744\n",
      "Epoch 5/20\n",
      "60000/60000 [==============================] - 3s 53us/step - loss: 0.0286 - acc: 0.9904 - val_loss: 0.0891 - val_acc: 0.9758\n",
      "Epoch 6/20\n",
      "60000/60000 [==============================] - 3s 52us/step - loss: 0.0226 - acc: 0.9927 - val_loss: 0.0761 - val_acc: 0.9773\n",
      "Epoch 7/20\n",
      "60000/60000 [==============================] - 3s 53us/step - loss: 0.0203 - acc: 0.9932 - val_loss: 0.0831 - val_acc: 0.9761\n",
      "Epoch 8/20\n",
      "60000/60000 [==============================] - 3s 52us/step - loss: 0.0165 - acc: 0.9948 - val_loss: 0.0774 - val_acc: 0.9806\n",
      "Epoch 9/20\n",
      "60000/60000 [==============================] - 3s 52us/step - loss: 0.0147 - acc: 0.9952 - val_loss: 0.0828 - val_acc: 0.9768\n",
      "Epoch 10/20\n",
      "60000/60000 [==============================] - 3s 52us/step - loss: 0.0154 - acc: 0.9948 - val_loss: 0.0892 - val_acc: 0.9770\n",
      "Epoch 11/20\n",
      "60000/60000 [==============================] - 3s 52us/step - loss: 0.0140 - acc: 0.9952 - val_loss: 0.0900 - val_acc: 0.9757\n",
      "Epoch 12/20\n",
      "60000/60000 [==============================] - 3s 52us/step - loss: 0.0120 - acc: 0.9959 - val_loss: 0.0798 - val_acc: 0.9794\n",
      "Epoch 13/20\n",
      "60000/60000 [==============================] - 3s 52us/step - loss: 0.0111 - acc: 0.9962 - val_loss: 0.0921 - val_acc: 0.9788\n",
      "Epoch 14/20\n",
      "60000/60000 [==============================] - 3s 52us/step - loss: 0.0115 - acc: 0.9962 - val_loss: 0.0862 - val_acc: 0.9782\n",
      "Epoch 15/20\n",
      "60000/60000 [==============================] - 3s 52us/step - loss: 0.0096 - acc: 0.9970 - val_loss: 0.0781 - val_acc: 0.9812\n",
      "Epoch 16/20\n",
      "60000/60000 [==============================] - 3s 52us/step - loss: 0.0084 - acc: 0.9970 - val_loss: 0.0732 - val_acc: 0.9830\n",
      "Epoch 17/20\n",
      "60000/60000 [==============================] - 3s 52us/step - loss: 0.0073 - acc: 0.9976 - val_loss: 0.0756 - val_acc: 0.9828\n",
      "Epoch 18/20\n",
      "60000/60000 [==============================] - 3s 52us/step - loss: 0.0080 - acc: 0.9974 - val_loss: 0.0955 - val_acc: 0.9761\n",
      "Epoch 19/20\n",
      "60000/60000 [==============================] - 3s 52us/step - loss: 0.0097 - acc: 0.9967 - val_loss: 0.0824 - val_acc: 0.9806\n",
      "Epoch 20/20\n",
      "60000/60000 [==============================] - 3s 55us/step - loss: 0.0077 - acc: 0.9974 - val_loss: 0.0804 - val_acc: 0.9823\n"
     ]
    }
   ],
   "source": [
    "model_batch.compile(optimizer='adam', loss='categorical_crossentropy', metrics=['accuracy'])\n",
    "\n",
    "history = model_batch.fit(X_train, Y_train, batch_size=batch_size, epochs=nb_epoch, verbose=1, validation_data=(X_test, Y_test))"
   ]
  },
  {
   "cell_type": "code",
   "execution_count": 22,
   "metadata": {
    "colab": {
     "base_uri": "https://localhost:8080/",
     "height": 320
    },
    "colab_type": "code",
    "executionInfo": {
     "elapsed": 2203,
     "status": "ok",
     "timestamp": 1555823719416,
     "user": {
      "displayName": "saicharan vr",
      "photoUrl": "https://lh6.googleusercontent.com/-9c76VlghUpg/AAAAAAAAAAI/AAAAAAAAKCQ/qEBB6UkNMqc/s64/photo.jpg",
      "userId": "04851133143274740409"
     },
     "user_tz": -330
    },
    "id": "HThyBcHUQKcn",
    "outputId": "89e034ea-cdf0-4e84-a6e7-f62ce1528c5c"
   },
   "outputs": [
    {
     "name": "stdout",
     "output_type": "stream",
     "text": [
      "Test score: 0.08035635449174942\n",
      "Test accuracy: 0.9823\n"
     ]
    },
    {
     "data": {
      "image/png": "[encoded data removed]",
      "text/plain": [
       "<Figure size 432x288 with 1 Axes>"
      ]
     },
     "metadata": {
      "tags": []
     },
     "output_type": "display_data"
    }
   ],
   "source": [
    "score = model_batch.evaluate(X_test, Y_test, verbose=0) \n",
    "print('Test score:', score[0]) \n",
    "print('Test accuracy:', score[1])\n",
    "\n",
    "fig,ax = plt.subplots(1,1)\n",
    "ax.set_xlabel('epoch') ; ax.set_ylabel('Categorical Crossentropy Loss')\n",
    "\n",
    "# list of epoch numbers\n",
    "x = list(range(1,nb_epoch+1))\n",
    "\n",
    "# print(history.history.keys())\n",
    "# dict_keys(['val_loss', 'val_acc', 'loss', 'acc'])\n",
    "# history = model_drop.fit(X_train, Y_train, batch_size=batch_size, epochs=nb_epoch, verbose=1, validation_data=(X_test, Y_test))\n",
    "\n",
    "# we will get val_loss and val_acc only when you pass the paramter validation_data\n",
    "# val_loss : validation loss\n",
    "# val_acc : validation accuracy\n",
    "\n",
    "# loss : training loss\n",
    "# acc : train accuracy\n",
    "# for each key in histrory.histrory we will have a list of length equal to number of epochs\n",
    "\n",
    "vy = history.history['val_loss']\n",
    "ty = history.history['loss']\n",
    "plt_dynamic(x, vy, ty, ax)"
   ]
  },
  {
   "cell_type": "markdown",
   "metadata": {},
   "source": [
    "**summary**\n",
    "Here also the train loss keeps decreasing as the no of epochs increases,but the validation loss is not decreasing,it means that the\n",
    "model is overfitting ,here even with batchnormalization the model is not performing well,and this model is not sensible"
   ]
  },
  {
   "cell_type": "markdown",
   "metadata": {
    "colab_type": "text",
    "id": "e8M3jAAz2y4S"
   },
   "source": [
    " <h2>1.3 MLP + ReLU + ADAM + Dropout </h2>"
   ]
  },
  {
   "cell_type": "code",
   "execution_count": 23,
   "metadata": {
    "colab": {
     "base_uri": "https://localhost:8080/",
     "height": 401
    },
    "colab_type": "code",
    "executionInfo": {
     "elapsed": 1323,
     "status": "ok",
     "timestamp": 1555823727288,
     "user": {
      "displayName": "saicharan vr",
      "photoUrl": "https://lh6.googleusercontent.com/-9c76VlghUpg/AAAAAAAAAAI/AAAAAAAAKCQ/qEBB6UkNMqc/s64/photo.jpg",
      "userId": "04851133143274740409"
     },
     "user_tz": -330
    },
    "id": "VN9ODNGn2y4T",
    "outputId": "1f9c426b-e684-47ee-b0b2-3f228c3b800e"
   },
   "outputs": [
    {
     "name": "stdout",
     "output_type": "stream",
     "text": [
      "WARNING:tensorflow:From /usr/local/lib/python3.6/dist-packages/keras/backend/tensorflow_backend.py:3445: calling dropout (from tensorflow.python.ops.nn_ops) with keep_prob is deprecated and will be removed in a future version.\n",
      "Instructions for updating:\n",
      "Please use `rate` instead of `keep_prob`. Rate should be set to `rate = 1 - keep_prob`.\n",
      "_________________________________________________________________\n",
      "Layer (type)                 Output Shape              Param #   \n",
      "=================================================================\n",
      "dense_11 (Dense)             (None, 324)               254340    \n",
      "_________________________________________________________________\n",
      "dropout_1 (Dropout)          (None, 324)               0         \n",
      "_________________________________________________________________\n",
      "dense_12 (Dense)             (None, 124)               40300     \n",
      "_________________________________________________________________\n",
      "dropout_2 (Dropout)          (None, 124)               0         \n",
      "_________________________________________________________________\n",
      "dense_13 (Dense)             (None, 10)                1250      \n",
      "=================================================================\n",
      "Total params: 295,890\n",
      "Trainable params: 295,890\n",
      "Non-trainable params: 0\n",
      "_________________________________________________________________\n"
     ]
    }
   ],
   "source": [
    "# https://stackoverflow.com/questions/34716454/where-do-i-call-the-batchnormalization-function-in-keras\n",
    "\n",
    "from keras.layers import Dropout\n",
    "\n",
    "model_drop = Sequential()\n",
    "\n",
    "model_drop.add(Dense(324, activation='relu', input_shape=(input_dim,), kernel_initializer='he_normal'))\n",
    "model_drop.add(Dropout(0.5))\n",
    "\n",
    "model_drop.add(Dense(124, activation='relu', kernel_initializer='he_normal'))\n",
    "model_drop.add(Dropout(0.5))\n",
    "\n",
    "model_drop.add(Dense(output_dim, activation='softmax'))\n",
    "\n",
    "model_drop.summary()"
   ]
  },
  {
   "cell_type": "code",
   "execution_count": 24,
   "metadata": {
    "colab": {
     "base_uri": "https://localhost:8080/",
     "height": 763
    },
    "colab_type": "code",
    "executionInfo": {
     "elapsed": 42797,
     "status": "ok",
     "timestamp": 1555823772130,
     "user": {
      "displayName": "saicharan vr",
      "photoUrl": "https://lh6.googleusercontent.com/-9c76VlghUpg/AAAAAAAAAAI/AAAAAAAAKCQ/qEBB6UkNMqc/s64/photo.jpg",
      "userId": "04851133143274740409"
     },
     "user_tz": -330
    },
    "id": "-H_biRbW2y4X",
    "outputId": "867cb6ca-fbc8-438d-f1bf-06774789f097"
   },
   "outputs": [
    {
     "name": "stdout",
     "output_type": "stream",
     "text": [
      "Train on 60000 samples, validate on 10000 samples\n",
      "Epoch 1/20\n",
      "60000/60000 [==============================] - 2s 41us/step - loss: 0.5161 - acc: 0.8402 - val_loss: 0.1653 - val_acc: 0.9490\n",
      "Epoch 2/20\n",
      "60000/60000 [==============================] - 2s 34us/step - loss: 0.2349 - acc: 0.9312 - val_loss: 0.1215 - val_acc: 0.9626\n",
      "Epoch 3/20\n",
      "60000/60000 [==============================] - 2s 34us/step - loss: 0.1819 - acc: 0.9473 - val_loss: 0.1032 - val_acc: 0.9698\n",
      "Epoch 4/20\n",
      "60000/60000 [==============================] - 2s 34us/step - loss: 0.1572 - acc: 0.9545 - val_loss: 0.0910 - val_acc: 0.9719\n",
      "Epoch 5/20\n",
      "60000/60000 [==============================] - 2s 34us/step - loss: 0.1360 - acc: 0.9596 - val_loss: 0.0834 - val_acc: 0.9733\n",
      "Epoch 6/20\n",
      "60000/60000 [==============================] - 2s 34us/step - loss: 0.1277 - acc: 0.9623 - val_loss: 0.0775 - val_acc: 0.9772\n",
      "Epoch 7/20\n",
      "60000/60000 [==============================] - 2s 34us/step - loss: 0.1107 - acc: 0.9661 - val_loss: 0.0783 - val_acc: 0.9765\n",
      "Epoch 8/20\n",
      "60000/60000 [==============================] - 2s 34us/step - loss: 0.1039 - acc: 0.9692 - val_loss: 0.0744 - val_acc: 0.9766\n",
      "Epoch 9/20\n",
      "60000/60000 [==============================] - 2s 34us/step - loss: 0.0995 - acc: 0.9705 - val_loss: 0.0731 - val_acc: 0.9777\n",
      "Epoch 10/20\n",
      "60000/60000 [==============================] - 2s 34us/step - loss: 0.0929 - acc: 0.9720 - val_loss: 0.0676 - val_acc: 0.9808\n",
      "Epoch 11/20\n",
      "60000/60000 [==============================] - 2s 34us/step - loss: 0.0888 - acc: 0.9732 - val_loss: 0.0650 - val_acc: 0.9806\n",
      "Epoch 12/20\n",
      "60000/60000 [==============================] - 2s 34us/step - loss: 0.0853 - acc: 0.9738 - val_loss: 0.0663 - val_acc: 0.9805\n",
      "Epoch 13/20\n",
      "60000/60000 [==============================] - 2s 34us/step - loss: 0.0782 - acc: 0.9762 - val_loss: 0.0669 - val_acc: 0.9816\n",
      "Epoch 14/20\n",
      "60000/60000 [==============================] - 2s 34us/step - loss: 0.0799 - acc: 0.9754 - val_loss: 0.0658 - val_acc: 0.9814\n",
      "Epoch 15/20\n",
      "60000/60000 [==============================] - 2s 34us/step - loss: 0.0747 - acc: 0.9772 - val_loss: 0.0660 - val_acc: 0.9817\n",
      "Epoch 16/20\n",
      "60000/60000 [==============================] - 2s 34us/step - loss: 0.0697 - acc: 0.9786 - val_loss: 0.0669 - val_acc: 0.9815\n",
      "Epoch 17/20\n",
      "60000/60000 [==============================] - 2s 34us/step - loss: 0.0701 - acc: 0.9784 - val_loss: 0.0631 - val_acc: 0.9821\n",
      "Epoch 18/20\n",
      "60000/60000 [==============================] - 2s 34us/step - loss: 0.0659 - acc: 0.9794 - val_loss: 0.0630 - val_acc: 0.9834\n",
      "Epoch 19/20\n",
      "60000/60000 [==============================] - 2s 34us/step - loss: 0.0678 - acc: 0.9794 - val_loss: 0.0613 - val_acc: 0.9816\n",
      "Epoch 20/20\n",
      "60000/60000 [==============================] - 2s 34us/step - loss: 0.0623 - acc: 0.9807 - val_loss: 0.0647 - val_acc: 0.9820\n"
     ]
    }
   ],
   "source": [
    "model_drop.compile(optimizer='adam', loss='categorical_crossentropy', metrics=['accuracy'])\n",
    "\n",
    "history = model_drop.fit(X_train, Y_train, batch_size=batch_size, epochs=nb_epoch, verbose=1, validation_data=(X_test, Y_test))"
   ]
  },
  {
   "cell_type": "code",
   "execution_count": 25,
   "metadata": {
    "colab": {
     "base_uri": "https://localhost:8080/",
     "height": 320
    },
    "colab_type": "code",
    "executionInfo": {
     "elapsed": 1829,
     "status": "ok",
     "timestamp": 1555823852139,
     "user": {
      "displayName": "saicharan vr",
      "photoUrl": "https://lh6.googleusercontent.com/-9c76VlghUpg/AAAAAAAAAAI/AAAAAAAAKCQ/qEBB6UkNMqc/s64/photo.jpg",
      "userId": "04851133143274740409"
     },
     "user_tz": -330
    },
    "id": "tm2D588K2y4a",
    "outputId": "e911dd1e-3f4a-4da8-e6da-80610818a57c"
   },
   "outputs": [
    {
     "name": "stdout",
     "output_type": "stream",
     "text": [
      "Test score: 0.06469260362913701\n",
      "Test accuracy: 0.982\n"
     ]
    },
    {
     "data": {
      "image/png": "[encoded data removed]",
      "text/plain": [
       "<Figure size 432x288 with 1 Axes>"
      ]
     },
     "metadata": {
      "tags": []
     },
     "output_type": "display_data"
    }
   ],
   "source": [
    "score = model_drop.evaluate(X_test, Y_test, verbose=0) \n",
    "print('Test score:', score[0]) \n",
    "print('Test accuracy:', score[1])\n",
    "\n",
    "fig,ax = plt.subplots(1,1)\n",
    "ax.set_xlabel('epoch') ; ax.set_ylabel('Categorical Crossentropy Loss')\n",
    "\n",
    "# list of epoch numbers\n",
    "x = list(range(1,nb_epoch+1))\n",
    "\n",
    "# print(history.history.keys())\n",
    "# dict_keys(['val_loss', 'val_acc', 'loss', 'acc'])\n",
    "# history = model_drop.fit(X_train, Y_train, batch_size=batch_size, epochs=nb_epoch, verbose=1, validation_data=(X_test, Y_test))\n",
    "\n",
    "# we will get val_loss and val_acc only when you pass the paramter validation_data\n",
    "# val_loss : validation loss\n",
    "# val_acc : validation accuracy\n",
    "\n",
    "# loss : training loss\n",
    "# acc : train accuracy\n",
    "# for each key in histrory.histrory we will have a list of length equal to number of epochs\n",
    "\n",
    "vy = history.history['val_loss']\n",
    "ty = history.history['loss']\n",
    "plt_dynamic(x, vy, ty, ax)"
   ]
  },
  {
   "cell_type": "markdown",
   "metadata": {},
   "source": [
    "**summary**\n",
    "Here the train loss and validation loss keeps decreasing as the no of epochs increases,it means that we are maximum test accuracy\n",
    ",here we have used  dropouts as this perform very well,and this model is sensible"
   ]
  },
  {
   "cell_type": "markdown",
   "metadata": {
    "colab_type": "text",
    "id": "IWYP8-3pQKct"
   },
   "source": [
    " <h2>1.4 MLP + ReLU + ADAM + Batch Norm + Dropout </h2>"
   ]
  },
  {
   "cell_type": "code",
   "execution_count": 26,
   "metadata": {
    "colab": {
     "base_uri": "https://localhost:8080/",
     "height": 399
    },
    "colab_type": "code",
    "executionInfo": {
     "elapsed": 1168,
     "status": "ok",
     "timestamp": 1555823858204,
     "user": {
      "displayName": "saicharan vr",
      "photoUrl": "https://lh6.googleusercontent.com/-9c76VlghUpg/AAAAAAAAAAI/AAAAAAAAKCQ/qEBB6UkNMqc/s64/photo.jpg",
      "userId": "04851133143274740409"
     },
     "user_tz": -330
    },
    "id": "DJj0hu0-QKct",
    "outputId": "21991f76-a77e-4424-e637-a4294005f09f"
   },
   "outputs": [
    {
     "name": "stdout",
     "output_type": "stream",
     "text": [
      "_________________________________________________________________\n",
      "Layer (type)                 Output Shape              Param #   \n",
      "=================================================================\n",
      "dense_14 (Dense)             (None, 324)               254340    \n",
      "_________________________________________________________________\n",
      "batch_normalization_3 (Batch (None, 324)               1296      \n",
      "_________________________________________________________________\n",
      "dropout_3 (Dropout)          (None, 324)               0         \n",
      "_________________________________________________________________\n",
      "dense_15 (Dense)             (None, 124)               40300     \n",
      "_________________________________________________________________\n",
      "batch_normalization_4 (Batch (None, 124)               496       \n",
      "_________________________________________________________________\n",
      "dropout_4 (Dropout)          (None, 124)               0         \n",
      "_________________________________________________________________\n",
      "dense_16 (Dense)             (None, 10)                1250      \n",
      "=================================================================\n",
      "Total params: 297,682\n",
      "Trainable params: 296,786\n",
      "Non-trainable params: 896\n",
      "_________________________________________________________________\n"
     ]
    }
   ],
   "source": [
    "# https://stackoverflow.com/questions/34716454/where-do-i-call-the-batchnormalization-function-in-keras\n",
    "\n",
    "from keras.layers import Dropout\n",
    "\n",
    "model_drop = Sequential()\n",
    "\n",
    "model_drop.add(Dense(324, activation='sigmoid', input_shape=(input_dim,), kernel_initializer='he_normal'))\n",
    "model_drop.add(BatchNormalization())\n",
    "model_drop.add(Dropout(0.5))\n",
    "\n",
    "model_drop.add(Dense(124, activation='sigmoid', kernel_initializer='he_normal'))\n",
    "model_drop.add(BatchNormalization())\n",
    "model_drop.add(Dropout(0.5))\n",
    "\n",
    "model_drop.add(Dense(output_dim, activation='softmax'))\n",
    "\n",
    "model_drop.summary()"
   ]
  },
  {
   "cell_type": "code",
   "execution_count": 33,
   "metadata": {
    "colab": {
     "base_uri": "https://localhost:8080/",
     "height": 763
    },
    "colab_type": "code",
    "executionInfo": {
     "elapsed": 67524,
     "status": "ok",
     "timestamp": 1555824101078,
     "user": {
      "displayName": "saicharan vr",
      "photoUrl": "https://lh6.googleusercontent.com/-9c76VlghUpg/AAAAAAAAAAI/AAAAAAAAKCQ/qEBB6UkNMqc/s64/photo.jpg",
      "userId": "04851133143274740409"
     },
     "user_tz": -330
    },
    "id": "J5pc4W_9QKcw",
    "outputId": "c7193bbc-78c4-4fc6-ed9f-43fd33c0ccb3"
   },
   "outputs": [
    {
     "name": "stdout",
     "output_type": "stream",
     "text": [
      "Train on 60000 samples, validate on 10000 samples\n",
      "Epoch 1/20\n",
      "60000/60000 [==============================] - 4s 68us/step - loss: 0.0936 - acc: 0.9716 - val_loss: 0.0675 - val_acc: 0.9802\n",
      "Epoch 2/20\n",
      "60000/60000 [==============================] - 3s 54us/step - loss: 0.0883 - acc: 0.9724 - val_loss: 0.0697 - val_acc: 0.9806\n",
      "Epoch 3/20\n",
      "60000/60000 [==============================] - 3s 55us/step - loss: 0.0879 - acc: 0.9727 - val_loss: 0.0662 - val_acc: 0.9812\n",
      "Epoch 4/20\n",
      "60000/60000 [==============================] - 3s 54us/step - loss: 0.0837 - acc: 0.9738 - val_loss: 0.0646 - val_acc: 0.9814\n",
      "Epoch 5/20\n",
      "60000/60000 [==============================] - 3s 54us/step - loss: 0.0783 - acc: 0.9754 - val_loss: 0.0619 - val_acc: 0.9818\n",
      "Epoch 6/20\n",
      "60000/60000 [==============================] - 3s 54us/step - loss: 0.0795 - acc: 0.9755 - val_loss: 0.0600 - val_acc: 0.9818\n",
      "Epoch 7/20\n",
      "60000/60000 [==============================] - 3s 54us/step - loss: 0.0770 - acc: 0.9753 - val_loss: 0.0643 - val_acc: 0.9814\n",
      "Epoch 8/20\n",
      "60000/60000 [==============================] - 3s 53us/step - loss: 0.0725 - acc: 0.9771 - val_loss: 0.0649 - val_acc: 0.9812\n",
      "Epoch 9/20\n",
      "60000/60000 [==============================] - 3s 54us/step - loss: 0.0711 - acc: 0.9774 - val_loss: 0.0629 - val_acc: 0.9824\n",
      "Epoch 10/20\n",
      "60000/60000 [==============================] - 3s 54us/step - loss: 0.0713 - acc: 0.9782 - val_loss: 0.0616 - val_acc: 0.9810\n",
      "Epoch 11/20\n",
      "60000/60000 [==============================] - 3s 54us/step - loss: 0.0692 - acc: 0.9783 - val_loss: 0.0662 - val_acc: 0.9818\n",
      "Epoch 12/20\n",
      "60000/60000 [==============================] - 3s 54us/step - loss: 0.0667 - acc: 0.9789 - val_loss: 0.0596 - val_acc: 0.9823\n",
      "Epoch 13/20\n",
      "60000/60000 [==============================] - 3s 54us/step - loss: 0.0638 - acc: 0.9804 - val_loss: 0.0619 - val_acc: 0.9829\n",
      "Epoch 14/20\n",
      "60000/60000 [==============================] - 3s 54us/step - loss: 0.0635 - acc: 0.9799 - val_loss: 0.0622 - val_acc: 0.9829\n",
      "Epoch 15/20\n",
      "60000/60000 [==============================] - 3s 54us/step - loss: 0.0614 - acc: 0.9804 - val_loss: 0.0621 - val_acc: 0.9835\n",
      "Epoch 16/20\n",
      "60000/60000 [==============================] - 3s 54us/step - loss: 0.0594 - acc: 0.9810 - val_loss: 0.0616 - val_acc: 0.9825\n",
      "Epoch 17/20\n",
      "60000/60000 [==============================] - 3s 54us/step - loss: 0.0596 - acc: 0.9812 - val_loss: 0.0621 - val_acc: 0.9824\n",
      "Epoch 18/20\n",
      "60000/60000 [==============================] - 3s 53us/step - loss: 0.0586 - acc: 0.9810 - val_loss: 0.0594 - val_acc: 0.9828\n",
      "Epoch 19/20\n",
      "60000/60000 [==============================] - 3s 54us/step - loss: 0.0556 - acc: 0.9824 - val_loss: 0.0562 - val_acc: 0.9838\n",
      "Epoch 20/20\n",
      "60000/60000 [==============================] - 3s 55us/step - loss: 0.0557 - acc: 0.9825 - val_loss: 0.0591 - val_acc: 0.9831\n"
     ]
    }
   ],
   "source": [
    "model_drop.compile(optimizer='adam', loss='categorical_crossentropy', metrics=['accuracy'])\n",
    "\n",
    "history = model_drop.fit(X_train, Y_train, batch_size=batch_size, epochs=nb_epoch, verbose=1, validation_data=(X_test, Y_test))"
   ]
  },
  {
   "cell_type": "code",
   "execution_count": 34,
   "metadata": {
    "colab": {
     "base_uri": "https://localhost:8080/",
     "height": 320
    },
    "colab_type": "code",
    "executionInfo": {
     "elapsed": 1565,
     "status": "ok",
     "timestamp": 1555824165812,
     "user": {
      "displayName": "saicharan vr",
      "photoUrl": "https://lh6.googleusercontent.com/-9c76VlghUpg/AAAAAAAAAAI/AAAAAAAAKCQ/qEBB6UkNMqc/s64/photo.jpg",
      "userId": "04851133143274740409"
     },
     "user_tz": -330
    },
    "id": "i5WcfQRFQKc0",
    "outputId": "e54538be-ec21-4b7d-9694-5bea98c28b3a"
   },
   "outputs": [
    {
     "name": "stdout",
     "output_type": "stream",
     "text": [
      "Test score: 0.05908778045142535\n",
      "Test accuracy: 0.9831\n"
     ]
    },
    {
     "data": {
      "image/png": "[encoded data removed]",
      "text/plain": [
       "<Figure size 432x288 with 1 Axes>"
      ]
     },
     "metadata": {
      "tags": []
     },
     "output_type": "display_data"
    }
   ],
   "source": [
    "score = model_drop.evaluate(X_test, Y_test, verbose=0) \n",
    "print('Test score:', score[0]) \n",
    "print('Test accuracy:', score[1])\n",
    "\n",
    "fig,ax = plt.subplots(1,1)\n",
    "ax.set_xlabel('epoch') ; ax.set_ylabel('Categorical Crossentropy Loss')\n",
    "\n",
    "# list of epoch numbers\n",
    "x = list(range(1,nb_epoch+1))\n",
    "\n",
    "# print(history.history.keys())\n",
    "# dict_keys(['val_loss', 'val_acc', 'loss', 'acc'])\n",
    "# history = model_drop.fit(X_train, Y_train, batch_size=batch_size, epochs=nb_epoch, verbose=1, validation_data=(X_test, Y_test))\n",
    "\n",
    "# we will get val_loss and val_acc only when you pass the paramter validation_data\n",
    "# val_loss : validation loss\n",
    "# val_acc : validation accuracy\n",
    "\n",
    "# loss : training loss\n",
    "# acc : train accuracy\n",
    "# for each key in histrory.histrory we will have a list of length equal to number of epochs\n",
    "\n",
    "vy = history.history['val_loss']\n",
    "ty = history.history['loss']\n",
    "plt_dynamic(x, vy, ty, ax)"
   ]
  },
  {
   "cell_type": "markdown",
   "metadata": {},
   "source": [
    "**summary**\n",
    "Here the train loss keeps increasing and decreasing as the no of epochs increases,but the validation loss is gradually decreasing,\n",
    "it means that the model is not overfitting ,here used both batch normalization and dropouts,but we got similar results as we have \n",
    "used dropouts itself ,and this model is sensible."
   ]
  },
  {
   "cell_type": "markdown",
   "metadata": {
    "colab_type": "text",
    "id": "7CIg1P4-2y4y"
   },
   "source": [
    "# MODEL-2 with three hidden layers (784-356-256-156-10)"
   ]
  },
  {
   "cell_type": "markdown",
   "metadata": {
    "colab_type": "text",
    "id": "OGV1lWE52y40"
   },
   "source": [
    "<h2> 2.1 MLP + ReLU + ADAM </h2>"
   ]
  },
  {
   "cell_type": "code",
   "execution_count": 35,
   "metadata": {
    "colab": {
     "base_uri": "https://localhost:8080/",
     "height": 308
    },
    "colab_type": "code",
    "executionInfo": {
     "elapsed": 1243,
     "status": "ok",
     "timestamp": 1555824184917,
     "user": {
      "displayName": "saicharan vr",
      "photoUrl": "https://lh6.googleusercontent.com/-9c76VlghUpg/AAAAAAAAAAI/AAAAAAAAKCQ/qEBB6UkNMqc/s64/photo.jpg",
      "userId": "04851133143274740409"
     },
     "user_tz": -330
    },
    "id": "kZVQitHp2y41",
    "outputId": "68ff4c5e-8185-42e1-ee07-5b2a3dbbd2a6"
   },
   "outputs": [
    {
     "name": "stdout",
     "output_type": "stream",
     "text": [
      "_________________________________________________________________\n",
      "Layer (type)                 Output Shape              Param #   \n",
      "=================================================================\n",
      "dense_22 (Dense)             (None, 356)               279460    \n",
      "_________________________________________________________________\n",
      "dense_23 (Dense)             (None, 256)               91392     \n",
      "_________________________________________________________________\n",
      "dense_24 (Dense)             (None, 156)               40092     \n",
      "_________________________________________________________________\n",
      "dense_25 (Dense)             (None, 10)                1570      \n",
      "=================================================================\n",
      "Total params: 412,514\n",
      "Trainable params: 412,514\n",
      "Non-trainable params: 0\n",
      "_________________________________________________________________\n",
      "None\n"
     ]
    }
   ],
   "source": [
    "model_relu = Sequential()\n",
    "model_relu.add(Dense(356, activation='relu', input_shape=(input_dim,), kernel_initializer= 'he_normal'))\n",
    "model_relu.add(Dense(256, activation='relu', kernel_initializer='he_normal' ))\n",
    "model_relu.add(Dense(156, activation='relu', kernel_initializer='he_normal' ))\n",
    "model_relu.add(Dense(output_dim, activation='softmax'))\n",
    "\n",
    "print(model_relu.summary())"
   ]
  },
  {
   "cell_type": "code",
   "execution_count": 36,
   "metadata": {
    "colab": {
     "base_uri": "https://localhost:8080/",
     "height": 763
    },
    "colab_type": "code",
    "executionInfo": {
     "elapsed": 44949,
     "status": "ok",
     "timestamp": 1555824231856,
     "user": {
      "displayName": "saicharan vr",
      "photoUrl": "https://lh6.googleusercontent.com/-9c76VlghUpg/AAAAAAAAAAI/AAAAAAAAKCQ/qEBB6UkNMqc/s64/photo.jpg",
      "userId": "04851133143274740409"
     },
     "user_tz": -330
    },
    "id": "0AHAGPNQ2y44",
    "outputId": "b4b1ff23-84b0-41fd-a740-0a05ae2321f0"
   },
   "outputs": [
    {
     "name": "stdout",
     "output_type": "stream",
     "text": [
      "Train on 60000 samples, validate on 10000 samples\n",
      "Epoch 1/20\n",
      "60000/60000 [==============================] - 3s 50us/step - loss: 0.2316 - acc: 0.9313 - val_loss: 0.1089 - val_acc: 0.9643\n",
      "Epoch 2/20\n",
      "60000/60000 [==============================] - 2s 35us/step - loss: 0.0862 - acc: 0.9736 - val_loss: 0.0804 - val_acc: 0.9740\n",
      "Epoch 3/20\n",
      "60000/60000 [==============================] - 2s 35us/step - loss: 0.0562 - acc: 0.9821 - val_loss: 0.0699 - val_acc: 0.9764\n",
      "Epoch 4/20\n",
      "60000/60000 [==============================] - 2s 35us/step - loss: 0.0401 - acc: 0.9870 - val_loss: 0.0797 - val_acc: 0.9764\n",
      "Epoch 5/20\n",
      "60000/60000 [==============================] - 2s 35us/step - loss: 0.0302 - acc: 0.9901 - val_loss: 0.0726 - val_acc: 0.9786\n",
      "Epoch 6/20\n",
      "60000/60000 [==============================] - 2s 35us/step - loss: 0.0264 - acc: 0.9913 - val_loss: 0.0856 - val_acc: 0.9761\n",
      "Epoch 7/20\n",
      "60000/60000 [==============================] - 2s 35us/step - loss: 0.0211 - acc: 0.9928 - val_loss: 0.0932 - val_acc: 0.9766\n",
      "Epoch 8/20\n",
      "60000/60000 [==============================] - 2s 35us/step - loss: 0.0219 - acc: 0.9930 - val_loss: 0.0730 - val_acc: 0.9798\n",
      "Epoch 9/20\n",
      "60000/60000 [==============================] - 2s 35us/step - loss: 0.0177 - acc: 0.9941 - val_loss: 0.0702 - val_acc: 0.9807\n",
      "Epoch 10/20\n",
      "60000/60000 [==============================] - 2s 35us/step - loss: 0.0161 - acc: 0.9947 - val_loss: 0.0782 - val_acc: 0.9816\n",
      "Epoch 11/20\n",
      "60000/60000 [==============================] - 2s 35us/step - loss: 0.0125 - acc: 0.9957 - val_loss: 0.0968 - val_acc: 0.9798\n",
      "Epoch 12/20\n",
      "60000/60000 [==============================] - 2s 35us/step - loss: 0.0164 - acc: 0.9943 - val_loss: 0.0884 - val_acc: 0.9795\n",
      "Epoch 13/20\n",
      "60000/60000 [==============================] - 2s 35us/step - loss: 0.0125 - acc: 0.9959 - val_loss: 0.0868 - val_acc: 0.9808\n",
      "Epoch 14/20\n",
      "60000/60000 [==============================] - 2s 40us/step - loss: 0.0119 - acc: 0.9961 - val_loss: 0.0951 - val_acc: 0.9783\n",
      "Epoch 15/20\n",
      "60000/60000 [==============================] - 2s 40us/step - loss: 0.0108 - acc: 0.9965 - val_loss: 0.1075 - val_acc: 0.9773\n",
      "Epoch 16/20\n",
      "60000/60000 [==============================] - 2s 35us/step - loss: 0.0120 - acc: 0.9963 - val_loss: 0.0983 - val_acc: 0.9785\n",
      "Epoch 17/20\n",
      "60000/60000 [==============================] - 2s 35us/step - loss: 0.0086 - acc: 0.9972 - val_loss: 0.0905 - val_acc: 0.9810\n",
      "Epoch 18/20\n",
      "60000/60000 [==============================] - 2s 35us/step - loss: 0.0132 - acc: 0.9957 - val_loss: 0.0999 - val_acc: 0.9789\n",
      "Epoch 19/20\n",
      "60000/60000 [==============================] - 2s 35us/step - loss: 0.0062 - acc: 0.9977 - val_loss: 0.1089 - val_acc: 0.9779\n",
      "Epoch 20/20\n",
      "60000/60000 [==============================] - 2s 35us/step - loss: 0.0112 - acc: 0.9964 - val_loss: 0.1009 - val_acc: 0.9799\n"
     ]
    }
   ],
   "source": [
    "model_relu.compile(optimizer='adam', loss='categorical_crossentropy', metrics=['accuracy'])\n",
    "\n",
    "history = model_relu.fit(X_train, Y_train, batch_size=batch_size, epochs=nb_epoch, verbose=1, validation_data=(X_test, Y_test))"
   ]
  },
  {
   "cell_type": "code",
   "execution_count": 37,
   "metadata": {
    "colab": {
     "base_uri": "https://localhost:8080/",
     "height": 320
    },
    "colab_type": "code",
    "executionInfo": {
     "elapsed": 1928,
     "status": "ok",
     "timestamp": 1555824353045,
     "user": {
      "displayName": "saicharan vr",
      "photoUrl": "https://lh6.googleusercontent.com/-9c76VlghUpg/AAAAAAAAAAI/AAAAAAAAKCQ/qEBB6UkNMqc/s64/photo.jpg",
      "userId": "04851133143274740409"
     },
     "user_tz": -330
    },
    "id": "mQ1fj0fV2y47",
    "outputId": "23437727-1d41-4b6e-c08a-97d301e54f35"
   },
   "outputs": [
    {
     "name": "stdout",
     "output_type": "stream",
     "text": [
      "Test score: 0.10090933883885768\n",
      "Test accuracy: 0.9799\n"
     ]
    },
    {
     "data": {
      "image/png": "[encoded data removed]",
      "text/plain": [
       "<Figure size 432x288 with 1 Axes>"
      ]
     },
     "metadata": {
      "tags": []
     },
     "output_type": "display_data"
    }
   ],
   "source": [
    "score = model_relu.evaluate(X_test, Y_test, verbose=0) \n",
    "print('Test score:', score[0]) \n",
    "print('Test accuracy:', score[1])\n",
    "\n",
    "fig,ax = plt.subplots(1,1)\n",
    "ax.set_xlabel('epoch') ; ax.set_ylabel('Categorical Crossentropy Loss')\n",
    "\n",
    "# list of epoch numbers\n",
    "x = list(range(1,nb_epoch+1))\n",
    "\n",
    "vy = history.history['val_loss']\n",
    "ty = history.history['loss']\n",
    "plt_dynamic(x, vy, ty, ax)"
   ]
  },
  {
   "cell_type": "markdown",
   "metadata": {},
   "source": [
    "**summary**\n",
    "Here the train loss keeps decreasing as the no of epochs increases,but the validation loss is not decreasing but gradually increasing,\n",
    "it means that the model is overfitting ,here we didnot use batch normalization and dropouts.so this model is not sensible."
   ]
  },
  {
   "cell_type": "markdown",
   "metadata": {
    "colab_type": "text",
    "id": "ncWPl6SD2y4-"
   },
   "source": [
    " <h2>2.2 MLP + ReLU + ADAM + Batch Norm  </h2>"
   ]
  },
  {
   "cell_type": "code",
   "execution_count": 39,
   "metadata": {
    "colab": {
     "base_uri": "https://localhost:8080/",
     "height": 399
    },
    "colab_type": "code",
    "executionInfo": {
     "elapsed": 1050,
     "status": "ok",
     "timestamp": 1555824380078,
     "user": {
      "displayName": "saicharan vr",
      "photoUrl": "https://lh6.googleusercontent.com/-9c76VlghUpg/AAAAAAAAAAI/AAAAAAAAKCQ/qEBB6UkNMqc/s64/photo.jpg",
      "userId": "04851133143274740409"
     },
     "user_tz": -330
    },
    "id": "a-qytJqk2y4_",
    "outputId": "cd7cbfe9-8381-4483-846e-6dea16e89619"
   },
   "outputs": [
    {
     "name": "stdout",
     "output_type": "stream",
     "text": [
      "_________________________________________________________________\n",
      "Layer (type)                 Output Shape              Param #   \n",
      "=================================================================\n",
      "dense_27 (Dense)             (None, 356)               279460    \n",
      "_________________________________________________________________\n",
      "batch_normalization_5 (Batch (None, 356)               1424      \n",
      "_________________________________________________________________\n",
      "dense_28 (Dense)             (None, 256)               91392     \n",
      "_________________________________________________________________\n",
      "batch_normalization_6 (Batch (None, 256)               1024      \n",
      "_________________________________________________________________\n",
      "dense_29 (Dense)             (None, 156)               40092     \n",
      "_________________________________________________________________\n",
      "batch_normalization_7 (Batch (None, 156)               624       \n",
      "_________________________________________________________________\n",
      "dense_30 (Dense)             (None, 10)                1570      \n",
      "=================================================================\n",
      "Total params: 415,586\n",
      "Trainable params: 414,050\n",
      "Non-trainable params: 1,536\n",
      "_________________________________________________________________\n"
     ]
    }
   ],
   "source": [
    "# Multilayer perceptron\n",
    "\n",
    "from keras.layers.normalization import BatchNormalization\n",
    "\n",
    "model_batch = Sequential()\n",
    "\n",
    "model_batch.add(Dense(356, activation='relu', input_shape=(input_dim,), kernel_initializer='he_normal'))\n",
    "model_batch.add(BatchNormalization())\n",
    "model_batch.add(Dense(256, activation='relu', kernel_initializer='he_normal') )\n",
    "model_batch.add(BatchNormalization())\n",
    "model_batch.add(Dense(156, activation='relu', kernel_initializer='he_normal') )\n",
    "model_batch.add(BatchNormalization())\n",
    "\n",
    "model_batch.add(Dense(output_dim, activation='softmax'))\n",
    "\n",
    "\n",
    "model_batch.summary()"
   ]
  },
  {
   "cell_type": "code",
   "execution_count": 40,
   "metadata": {
    "colab": {
     "base_uri": "https://localhost:8080/",
     "height": 763
    },
    "colab_type": "code",
    "executionInfo": {
     "elapsed": 84007,
     "status": "ok",
     "timestamp": 1555824470449,
     "user": {
      "displayName": "saicharan vr",
      "photoUrl": "https://lh6.googleusercontent.com/-9c76VlghUpg/AAAAAAAAAAI/AAAAAAAAKCQ/qEBB6UkNMqc/s64/photo.jpg",
      "userId": "04851133143274740409"
     },
     "user_tz": -330
    },
    "id": "iItMKZ-P2y5C",
    "outputId": "086b1189-fbf2-4b7e-84a8-9c70dacd4e2d"
   },
   "outputs": [
    {
     "name": "stdout",
     "output_type": "stream",
     "text": [
      "Train on 60000 samples, validate on 10000 samples\n",
      "Epoch 1/20\n",
      "60000/60000 [==============================] - 5s 88us/step - loss: 0.1974 - acc: 0.9399 - val_loss: 0.1004 - val_acc: 0.9688\n",
      "Epoch 2/20\n",
      "60000/60000 [==============================] - 4s 65us/step - loss: 0.0771 - acc: 0.9763 - val_loss: 0.0803 - val_acc: 0.9757\n",
      "Epoch 3/20\n",
      "60000/60000 [==============================] - 4s 65us/step - loss: 0.0492 - acc: 0.9846 - val_loss: 0.0840 - val_acc: 0.9758\n",
      "Epoch 4/20\n",
      "60000/60000 [==============================] - 4s 65us/step - loss: 0.0375 - acc: 0.9878 - val_loss: 0.0804 - val_acc: 0.9758\n",
      "Epoch 5/20\n",
      "60000/60000 [==============================] - 4s 65us/step - loss: 0.0317 - acc: 0.9892 - val_loss: 0.0776 - val_acc: 0.9772\n",
      "Epoch 6/20\n",
      "60000/60000 [==============================] - 4s 67us/step - loss: 0.0236 - acc: 0.9922 - val_loss: 0.0827 - val_acc: 0.9773\n",
      "Epoch 7/20\n",
      "60000/60000 [==============================] - 5s 75us/step - loss: 0.0231 - acc: 0.9925 - val_loss: 0.0991 - val_acc: 0.9708\n",
      "Epoch 8/20\n",
      "60000/60000 [==============================] - 5s 75us/step - loss: 0.0181 - acc: 0.9937 - val_loss: 0.0876 - val_acc: 0.9775\n",
      "Epoch 9/20\n",
      "60000/60000 [==============================] - 4s 72us/step - loss: 0.0211 - acc: 0.9927 - val_loss: 0.0923 - val_acc: 0.9738\n",
      "Epoch 10/20\n",
      "60000/60000 [==============================] - 4s 73us/step - loss: 0.0167 - acc: 0.9944 - val_loss: 0.0799 - val_acc: 0.9779\n",
      "Epoch 11/20\n",
      "60000/60000 [==============================] - 4s 67us/step - loss: 0.0137 - acc: 0.9954 - val_loss: 0.0891 - val_acc: 0.9764\n",
      "Epoch 12/20\n",
      "60000/60000 [==============================] - 4s 65us/step - loss: 0.0151 - acc: 0.9947 - val_loss: 0.0722 - val_acc: 0.9813\n",
      "Epoch 13/20\n",
      "60000/60000 [==============================] - 4s 65us/step - loss: 0.0127 - acc: 0.9957 - val_loss: 0.0815 - val_acc: 0.9809\n",
      "Epoch 14/20\n",
      "60000/60000 [==============================] - 4s 65us/step - loss: 0.0107 - acc: 0.9964 - val_loss: 0.0782 - val_acc: 0.9816\n",
      "Epoch 15/20\n",
      "60000/60000 [==============================] - 4s 65us/step - loss: 0.0136 - acc: 0.9956 - val_loss: 0.0695 - val_acc: 0.9806\n",
      "Epoch 16/20\n",
      "60000/60000 [==============================] - 4s 65us/step - loss: 0.0113 - acc: 0.9964 - val_loss: 0.0796 - val_acc: 0.9812\n",
      "Epoch 17/20\n",
      "60000/60000 [==============================] - 4s 65us/step - loss: 0.0098 - acc: 0.9967 - val_loss: 0.0849 - val_acc: 0.9793\n",
      "Epoch 18/20\n",
      "60000/60000 [==============================] - 4s 64us/step - loss: 0.0099 - acc: 0.9966 - val_loss: 0.0856 - val_acc: 0.9781\n",
      "Epoch 19/20\n",
      "60000/60000 [==============================] - 4s 65us/step - loss: 0.0094 - acc: 0.9968 - val_loss: 0.0934 - val_acc: 0.9796\n",
      "Epoch 20/20\n",
      "60000/60000 [==============================] - 4s 65us/step - loss: 0.0072 - acc: 0.9976 - val_loss: 0.0831 - val_acc: 0.9808\n"
     ]
    }
   ],
   "source": [
    "model_batch.compile(optimizer='adam', loss='categorical_crossentropy', metrics=['accuracy'])\n",
    "\n",
    "history = model_batch.fit(X_train, Y_train, batch_size=batch_size, epochs=nb_epoch, verbose=1, validation_data=(X_test, Y_test))"
   ]
  },
  {
   "cell_type": "code",
   "execution_count": 41,
   "metadata": {
    "colab": {
     "base_uri": "https://localhost:8080/",
     "height": 320
    },
    "colab_type": "code",
    "executionInfo": {
     "elapsed": 1916,
     "status": "ok",
     "timestamp": 1555824562921,
     "user": {
      "displayName": "saicharan vr",
      "photoUrl": "https://lh6.googleusercontent.com/-9c76VlghUpg/AAAAAAAAAAI/AAAAAAAAKCQ/qEBB6UkNMqc/s64/photo.jpg",
      "userId": "04851133143274740409"
     },
     "user_tz": -330
    },
    "id": "DVuGGmh62y5F",
    "outputId": "17d815ed-2a0c-4935-aa67-a92beceadecd"
   },
   "outputs": [
    {
     "name": "stdout",
     "output_type": "stream",
     "text": [
      "Test score: 0.08309072787813275\n",
      "Test accuracy: 0.9808\n"
     ]
    },
    {
     "data": {
      "image/png": "[encoded data removed]",
      "text/plain": [
       "<Figure size 432x288 with 1 Axes>"
      ]
     },
     "metadata": {
      "tags": []
     },
     "output_type": "display_data"
    }
   ],
   "source": [
    "score = model_batch.evaluate(X_test, Y_test, verbose=0) \n",
    "print('Test score:', score[0]) \n",
    "print('Test accuracy:', score[1])\n",
    "\n",
    "fig,ax = plt.subplots(1,1)\n",
    "ax.set_xlabel('epoch') ; ax.set_ylabel('Categorical Crossentropy Loss')\n",
    "\n",
    "# list of epoch numbers\n",
    "x = list(range(1,nb_epoch+1))\n",
    "\n",
    "vy = history.history['val_loss']\n",
    "ty = history.history['loss']\n",
    "plt_dynamic(x, vy, ty, ax)"
   ]
  },
  {
   "cell_type": "markdown",
   "metadata": {},
   "source": [
    "**summary**\n",
    "Here also the train loss keeps decreasing as the no of epochs increases,but the validation loss is decreasing and increasing,\n",
    "it means that the model is overfitting ,here we used batch normalization,but we got the similar results as in the previoes model where we dint use anything.So this model is not sensible"
   ]
  },
  {
   "cell_type": "markdown",
   "metadata": {
    "colab_type": "text",
    "id": "kSDkCa8l2y5I"
   },
   "source": [
    "<h2>2.3 MLP + ReLU + ADAM + Dropout </h2>\n"
   ]
  },
  {
   "cell_type": "code",
   "execution_count": 43,
   "metadata": {
    "colab": {
     "base_uri": "https://localhost:8080/",
     "height": 399
    },
    "colab_type": "code",
    "executionInfo": {
     "elapsed": 1316,
     "status": "ok",
     "timestamp": 1555824591970,
     "user": {
      "displayName": "saicharan vr",
      "photoUrl": "https://lh6.googleusercontent.com/-9c76VlghUpg/AAAAAAAAAAI/AAAAAAAAKCQ/qEBB6UkNMqc/s64/photo.jpg",
      "userId": "04851133143274740409"
     },
     "user_tz": -330
    },
    "id": "uueBuLo_2y5J",
    "outputId": "a92f23ec-e450-4e8c-b4ea-dbfecf0e6227"
   },
   "outputs": [
    {
     "name": "stdout",
     "output_type": "stream",
     "text": [
      "_________________________________________________________________\n",
      "Layer (type)                 Output Shape              Param #   \n",
      "=================================================================\n",
      "dense_32 (Dense)             (None, 356)               279460    \n",
      "_________________________________________________________________\n",
      "dropout_5 (Dropout)          (None, 356)               0         \n",
      "_________________________________________________________________\n",
      "dense_33 (Dense)             (None, 256)               91392     \n",
      "_________________________________________________________________\n",
      "dropout_6 (Dropout)          (None, 256)               0         \n",
      "_________________________________________________________________\n",
      "dense_34 (Dense)             (None, 156)               40092     \n",
      "_________________________________________________________________\n",
      "dropout_7 (Dropout)          (None, 156)               0         \n",
      "_________________________________________________________________\n",
      "dense_35 (Dense)             (None, 10)                1570      \n",
      "=================================================================\n",
      "Total params: 412,514\n",
      "Trainable params: 412,514\n",
      "Non-trainable params: 0\n",
      "_________________________________________________________________\n"
     ]
    }
   ],
   "source": [
    "# https://stackoverflow.com/questions/34716454/where-do-i-call-the-batchnormalization-function-in-keras\n",
    "\n",
    "from keras.layers import Dropout\n",
    "\n",
    "model_drop = Sequential()\n",
    "\n",
    "model_drop.add(Dense(356, activation='relu', input_shape=(input_dim,), kernel_initializer='he_normal'))\n",
    "model_drop.add(Dropout(0.5))\n",
    "\n",
    "model_drop.add(Dense(256, activation='relu', kernel_initializer='he_normal'))\n",
    "model_drop.add(Dropout(0.5))\n",
    "    \n",
    "model_drop.add(Dense(156, activation='relu', kernel_initializer='he_normal'))\n",
    "model_drop.add(Dropout(0.5))\n",
    "\n",
    "model_drop.add(Dense(output_dim, activation='softmax'))\n",
    "\n",
    "model_drop.summary()"
   ]
  },
  {
   "cell_type": "code",
   "execution_count": 44,
   "metadata": {
    "colab": {
     "base_uri": "https://localhost:8080/",
     "height": 763
    },
    "colab_type": "code",
    "executionInfo": {
     "elapsed": 49420,
     "status": "ok",
     "timestamp": 1555824649009,
     "user": {
      "displayName": "saicharan vr",
      "photoUrl": "https://lh6.googleusercontent.com/-9c76VlghUpg/AAAAAAAAAAI/AAAAAAAAKCQ/qEBB6UkNMqc/s64/photo.jpg",
      "userId": "04851133143274740409"
     },
     "user_tz": -330
    },
    "id": "vucjDZV12y5M",
    "outputId": "a82e62fc-7f49-4220-daa1-debd548a59c0"
   },
   "outputs": [
    {
     "name": "stdout",
     "output_type": "stream",
     "text": [
      "Train on 60000 samples, validate on 10000 samples\n",
      "Epoch 1/20\n",
      "60000/60000 [==============================] - 4s 58us/step - loss: 0.6390 - acc: 0.7961 - val_loss: 0.1772 - val_acc: 0.9468\n",
      "Epoch 2/20\n",
      "60000/60000 [==============================] - 2s 39us/step - loss: 0.2700 - acc: 0.9239 - val_loss: 0.1428 - val_acc: 0.9569\n",
      "Epoch 3/20\n",
      "60000/60000 [==============================] - 2s 39us/step - loss: 0.2096 - acc: 0.9414 - val_loss: 0.1144 - val_acc: 0.9672\n",
      "Epoch 4/20\n",
      "60000/60000 [==============================] - 2s 39us/step - loss: 0.1785 - acc: 0.9498 - val_loss: 0.0988 - val_acc: 0.9694\n",
      "Epoch 5/20\n",
      "60000/60000 [==============================] - 2s 39us/step - loss: 0.1581 - acc: 0.9559 - val_loss: 0.0931 - val_acc: 0.9714\n",
      "Epoch 6/20\n",
      "60000/60000 [==============================] - 2s 39us/step - loss: 0.1421 - acc: 0.9599 - val_loss: 0.0910 - val_acc: 0.9742\n",
      "Epoch 7/20\n",
      "60000/60000 [==============================] - 2s 39us/step - loss: 0.1326 - acc: 0.9627 - val_loss: 0.0818 - val_acc: 0.9775\n",
      "Epoch 8/20\n",
      "60000/60000 [==============================] - 2s 39us/step - loss: 0.1236 - acc: 0.9649 - val_loss: 0.0815 - val_acc: 0.9765\n",
      "Epoch 9/20\n",
      "60000/60000 [==============================] - 2s 39us/step - loss: 0.1134 - acc: 0.9673 - val_loss: 0.0805 - val_acc: 0.9777\n",
      "Epoch 10/20\n",
      "60000/60000 [==============================] - 2s 38us/step - loss: 0.1092 - acc: 0.9682 - val_loss: 0.0780 - val_acc: 0.9783\n",
      "Epoch 11/20\n",
      "60000/60000 [==============================] - 2s 38us/step - loss: 0.1041 - acc: 0.9706 - val_loss: 0.0758 - val_acc: 0.9789\n",
      "Epoch 12/20\n",
      "60000/60000 [==============================] - 2s 39us/step - loss: 0.0947 - acc: 0.9720 - val_loss: 0.0762 - val_acc: 0.9791\n",
      "Epoch 13/20\n",
      "60000/60000 [==============================] - 2s 39us/step - loss: 0.0924 - acc: 0.9731 - val_loss: 0.0803 - val_acc: 0.9786\n",
      "Epoch 14/20\n",
      "60000/60000 [==============================] - 2s 39us/step - loss: 0.0915 - acc: 0.9732 - val_loss: 0.0710 - val_acc: 0.9790\n",
      "Epoch 15/20\n",
      "60000/60000 [==============================] - 2s 38us/step - loss: 0.0890 - acc: 0.9746 - val_loss: 0.0695 - val_acc: 0.9804\n",
      "Epoch 16/20\n",
      "60000/60000 [==============================] - 2s 38us/step - loss: 0.0821 - acc: 0.9759 - val_loss: 0.0692 - val_acc: 0.9798\n",
      "Epoch 17/20\n",
      "60000/60000 [==============================] - 2s 38us/step - loss: 0.0779 - acc: 0.9779 - val_loss: 0.0680 - val_acc: 0.9811\n",
      "Epoch 18/20\n",
      "60000/60000 [==============================] - 2s 39us/step - loss: 0.0785 - acc: 0.9766 - val_loss: 0.0681 - val_acc: 0.9822\n",
      "Epoch 19/20\n",
      "60000/60000 [==============================] - 2s 38us/step - loss: 0.0780 - acc: 0.9776 - val_loss: 0.0667 - val_acc: 0.9812\n",
      "Epoch 20/20\n",
      "60000/60000 [==============================] - 2s 38us/step - loss: 0.0718 - acc: 0.9786 - val_loss: 0.0732 - val_acc: 0.9819\n"
     ]
    }
   ],
   "source": [
    "model_drop.compile(optimizer='adam', loss='categorical_crossentropy', metrics=['accuracy'])\n",
    "\n",
    "history = model_drop.fit(X_train, Y_train, batch_size=batch_size, epochs=nb_epoch, verbose=1, validation_data=(X_test, Y_test))"
   ]
  },
  {
   "cell_type": "code",
   "execution_count": 45,
   "metadata": {
    "colab": {
     "base_uri": "https://localhost:8080/",
     "height": 320
    },
    "colab_type": "code",
    "executionInfo": {
     "elapsed": 2089,
     "status": "ok",
     "timestamp": 1555824696900,
     "user": {
      "displayName": "saicharan vr",
      "photoUrl": "https://lh6.googleusercontent.com/-9c76VlghUpg/AAAAAAAAAAI/AAAAAAAAKCQ/qEBB6UkNMqc/s64/photo.jpg",
      "userId": "04851133143274740409"
     },
     "user_tz": -330
    },
    "id": "GGaU8det2y5P",
    "outputId": "467cc6ab-4f31-45bf-ab58-64240cfddb7c"
   },
   "outputs": [
    {
     "name": "stdout",
     "output_type": "stream",
     "text": [
      "Test score: 0.07323772987398024\n",
      "Test accuracy: 0.9819\n"
     ]
    },
    {
     "data": {
      "image/png": "[encoded data removed]",
      "text/plain": [
       "<Figure size 432x288 with 1 Axes>"
      ]
     },
     "metadata": {
      "tags": []
     },
     "output_type": "display_data"
    }
   ],
   "source": [
    "score = model_drop.evaluate(X_test, Y_test, verbose=0) \n",
    "print('Test score:', score[0]) \n",
    "print('Test accuracy:', score[1])\n",
    "\n",
    "fig,ax = plt.subplots(1,1)\n",
    "ax.set_xlabel('epoch') ; ax.set_ylabel('Categorical Crossentropy Loss')\n",
    "\n",
    "# list of epoch numbers\n",
    "x = list(range(1,nb_epoch+1))\n",
    "\n",
    "vy = history.history['val_loss']\n",
    "ty = history.history['loss']\n",
    "plt_dynamic(x, vy, ty, ax)"
   ]
  },
  {
   "cell_type": "markdown",
   "metadata": {},
   "source": [
    "**summary**\n",
    "Here the train loss and validation loss keeps decreasing as the no of epochs increases,it means that the we are getting maximum\n",
    "test accuracy and the model is performing very well as we have used dropouts .So this model is not sensible"
   ]
  },
  {
   "cell_type": "markdown",
   "metadata": {
    "colab_type": "text",
    "id": "J_8ssXGO2y5S"
   },
   "source": [
    "<h2>2.4 MLP + ReLU + ADAM + Batch Norm + Dropout </h2>\n"
   ]
  },
  {
   "cell_type": "code",
   "execution_count": 46,
   "metadata": {
    "colab": {
     "base_uri": "https://localhost:8080/",
     "height": 508
    },
    "colab_type": "code",
    "executionInfo": {
     "elapsed": 1380,
     "status": "ok",
     "timestamp": 1555824756751,
     "user": {
      "displayName": "saicharan vr",
      "photoUrl": "https://lh6.googleusercontent.com/-9c76VlghUpg/AAAAAAAAAAI/AAAAAAAAKCQ/qEBB6UkNMqc/s64/photo.jpg",
      "userId": "04851133143274740409"
     },
     "user_tz": -330
    },
    "id": "BkFB1-_e2y5T",
    "outputId": "364030bf-8dce-4ead-bcc7-4ba0761c684d"
   },
   "outputs": [
    {
     "name": "stdout",
     "output_type": "stream",
     "text": [
      "_________________________________________________________________\n",
      "Layer (type)                 Output Shape              Param #   \n",
      "=================================================================\n",
      "dense_36 (Dense)             (None, 356)               279460    \n",
      "_________________________________________________________________\n",
      "batch_normalization_8 (Batch (None, 356)               1424      \n",
      "_________________________________________________________________\n",
      "dropout_8 (Dropout)          (None, 356)               0         \n",
      "_________________________________________________________________\n",
      "dense_37 (Dense)             (None, 256)               91392     \n",
      "_________________________________________________________________\n",
      "batch_normalization_9 (Batch (None, 256)               1024      \n",
      "_________________________________________________________________\n",
      "dropout_9 (Dropout)          (None, 256)               0         \n",
      "_________________________________________________________________\n",
      "dense_38 (Dense)             (None, 156)               40092     \n",
      "_________________________________________________________________\n",
      "batch_normalization_10 (Batc (None, 156)               624       \n",
      "_________________________________________________________________\n",
      "dropout_10 (Dropout)         (None, 156)               0         \n",
      "_________________________________________________________________\n",
      "dense_39 (Dense)             (None, 10)                1570      \n",
      "=================================================================\n",
      "Total params: 415,586\n",
      "Trainable params: 414,050\n",
      "Non-trainable params: 1,536\n",
      "_________________________________________________________________\n"
     ]
    }
   ],
   "source": [
    "from keras.layers import Dropout\n",
    "\n",
    "model_drop = Sequential()\n",
    "\n",
    "model_drop.add(Dense(356, activation='relu', input_shape=(input_dim,), kernel_initializer='he_normal'))\n",
    "model_drop.add(BatchNormalization())\n",
    "model_drop.add(Dropout(0.5))\n",
    "\n",
    "model_drop.add(Dense(256, activation='relu', kernel_initializer='he_normal'))\n",
    "model_drop.add(BatchNormalization())\n",
    "model_drop.add(Dropout(0.5))\n",
    "\n",
    "model_drop.add(Dense(156, activation='relu', kernel_initializer='he_normal'))\n",
    "model_drop.add(BatchNormalization())\n",
    "model_drop.add(Dropout(0.5))\n",
    "\n",
    "model_drop.add(Dense(output_dim, activation='softmax'))\n",
    "\n",
    "model_drop.summary()"
   ]
  },
  {
   "cell_type": "code",
   "execution_count": 47,
   "metadata": {
    "colab": {
     "base_uri": "https://localhost:8080/",
     "height": 763
    },
    "colab_type": "code",
    "executionInfo": {
     "elapsed": 86901,
     "status": "ok",
     "timestamp": 1555824847687,
     "user": {
      "displayName": "saicharan vr",
      "photoUrl": "https://lh6.googleusercontent.com/-9c76VlghUpg/AAAAAAAAAAI/AAAAAAAAKCQ/qEBB6UkNMqc/s64/photo.jpg",
      "userId": "04851133143274740409"
     },
     "user_tz": -330
    },
    "id": "PzChNo2c2y5X",
    "outputId": "a909756d-a897-4fe5-a704-19fe6e736667"
   },
   "outputs": [
    {
     "name": "stdout",
     "output_type": "stream",
     "text": [
      "Train on 60000 samples, validate on 10000 samples\n",
      "Epoch 1/20\n",
      "60000/60000 [==============================] - 6s 97us/step - loss: 0.6069 - acc: 0.8158 - val_loss: 0.1785 - val_acc: 0.9461\n",
      "Epoch 2/20\n",
      "60000/60000 [==============================] - 4s 69us/step - loss: 0.2663 - acc: 0.9206 - val_loss: 0.1301 - val_acc: 0.9584\n",
      "Epoch 3/20\n",
      "60000/60000 [==============================] - 4s 69us/step - loss: 0.2062 - acc: 0.9388 - val_loss: 0.1169 - val_acc: 0.9636\n",
      "Epoch 4/20\n",
      "60000/60000 [==============================] - 4s 69us/step - loss: 0.1789 - acc: 0.9472 - val_loss: 0.1035 - val_acc: 0.9686\n",
      "Epoch 5/20\n",
      "60000/60000 [==============================] - 4s 70us/step - loss: 0.1522 - acc: 0.9541 - val_loss: 0.0931 - val_acc: 0.9705\n",
      "Epoch 6/20\n",
      "60000/60000 [==============================] - 4s 68us/step - loss: 0.1356 - acc: 0.9584 - val_loss: 0.0852 - val_acc: 0.9739\n",
      "Epoch 7/20\n",
      "60000/60000 [==============================] - 4s 69us/step - loss: 0.1306 - acc: 0.9603 - val_loss: 0.0784 - val_acc: 0.9757\n",
      "Epoch 8/20\n",
      "60000/60000 [==============================] - 4s 69us/step - loss: 0.1203 - acc: 0.9642 - val_loss: 0.0741 - val_acc: 0.9778\n",
      "Epoch 9/20\n",
      "60000/60000 [==============================] - 4s 69us/step - loss: 0.1141 - acc: 0.9666 - val_loss: 0.0788 - val_acc: 0.9744\n",
      "Epoch 10/20\n",
      "60000/60000 [==============================] - 4s 68us/step - loss: 0.1069 - acc: 0.9679 - val_loss: 0.0750 - val_acc: 0.9773\n",
      "Epoch 11/20\n",
      "60000/60000 [==============================] - 4s 68us/step - loss: 0.1009 - acc: 0.9698 - val_loss: 0.0784 - val_acc: 0.9762\n",
      "Epoch 12/20\n",
      "60000/60000 [==============================] - 4s 68us/step - loss: 0.0966 - acc: 0.9714 - val_loss: 0.0700 - val_acc: 0.9807\n",
      "Epoch 13/20\n",
      "60000/60000 [==============================] - 4s 69us/step - loss: 0.0902 - acc: 0.9725 - val_loss: 0.0706 - val_acc: 0.9794\n",
      "Epoch 14/20\n",
      "60000/60000 [==============================] - 4s 68us/step - loss: 0.0917 - acc: 0.9720 - val_loss: 0.0611 - val_acc: 0.9808\n",
      "Epoch 15/20\n",
      "60000/60000 [==============================] - 4s 73us/step - loss: 0.0864 - acc: 0.9734 - val_loss: 0.0698 - val_acc: 0.9789\n",
      "Epoch 16/20\n",
      "60000/60000 [==============================] - 5s 78us/step - loss: 0.0830 - acc: 0.9744 - val_loss: 0.0649 - val_acc: 0.9809\n",
      "Epoch 17/20\n",
      "60000/60000 [==============================] - 4s 72us/step - loss: 0.0798 - acc: 0.9759 - val_loss: 0.0639 - val_acc: 0.9801\n",
      "Epoch 18/20\n",
      "60000/60000 [==============================] - 4s 67us/step - loss: 0.0759 - acc: 0.9763 - val_loss: 0.0666 - val_acc: 0.9806\n",
      "Epoch 19/20\n",
      "60000/60000 [==============================] - 4s 68us/step - loss: 0.0731 - acc: 0.9773 - val_loss: 0.0613 - val_acc: 0.9817\n",
      "Epoch 20/20\n",
      "60000/60000 [==============================] - 4s 68us/step - loss: 0.0720 - acc: 0.9784 - val_loss: 0.0629 - val_acc: 0.9820\n"
     ]
    }
   ],
   "source": [
    "model_drop.compile(optimizer='adam', loss='categorical_crossentropy', metrics=['accuracy'])\n",
    "\n",
    "history = model_drop.fit(X_train, Y_train, batch_size=batch_size, epochs=nb_epoch, verbose=1, validation_data=(X_test, Y_test))"
   ]
  },
  {
   "cell_type": "code",
   "execution_count": 48,
   "metadata": {
    "colab": {
     "base_uri": "https://localhost:8080/",
     "height": 320
    },
    "colab_type": "code",
    "executionInfo": {
     "elapsed": 1973,
     "status": "ok",
     "timestamp": 1555824877079,
     "user": {
      "displayName": "saicharan vr",
      "photoUrl": "https://lh6.googleusercontent.com/-9c76VlghUpg/AAAAAAAAAAI/AAAAAAAAKCQ/qEBB6UkNMqc/s64/photo.jpg",
      "userId": "04851133143274740409"
     },
     "user_tz": -330
    },
    "id": "ixjvnTU_2y5a",
    "outputId": "6ae23c3d-0353-40cd-b19f-3d27da31c927"
   },
   "outputs": [
    {
     "name": "stdout",
     "output_type": "stream",
     "text": [
      "Test score: 0.0629213298883522\n",
      "Test accuracy: 0.982\n"
     ]
    },
    {
     "data": {
      "image/png": "[encoded data removed]",
      "text/plain": [
       "<Figure size 432x288 with 1 Axes>"
      ]
     },
     "metadata": {
      "tags": []
     },
     "output_type": "display_data"
    }
   ],
   "source": [
    "score = model_drop.evaluate(X_test, Y_test, verbose=0) \n",
    "print('Test score:', score[0]) \n",
    "print('Test accuracy:', score[1])\n",
    "\n",
    "fig,ax = plt.subplots(1,1)\n",
    "ax.set_xlabel('epoch') ; ax.set_ylabel('Categorical Crossentropy Loss')\n",
    "\n",
    "# list of epoch numbers\n",
    "x = list(range(1,nb_epoch+1))\n",
    "\n",
    "vy = history.history['val_loss']\n",
    "ty = history.history['loss']\n",
    "plt_dynamic(x, vy, ty, ax)"
   ]
  },
  {
   "cell_type": "markdown",
   "metadata": {},
   "source": [
    "**summary**\n",
    "Here also the train loss and validation loss keeps decreasing as the no of epochs increases,it means that the we are getting maximum\n",
    "test accuracy and the model is performing very well as we have used both batch normalization dropouts.This model is giving simliar\n",
    "results as in the previos model where we used only dropouts.So this model is not sensible"
   ]
  },
  {
   "cell_type": "markdown",
   "metadata": {
    "colab_type": "text",
    "id": "Q--KHifl2y5d"
   },
   "source": [
    "# MODEL-3 with five hidden layers (784-512-412-312-212-112-10)"
   ]
  },
  {
   "cell_type": "markdown",
   "metadata": {
    "colab_type": "text",
    "id": "C7rO1CWp2y5e"
   },
   "source": [
    "<h2> 3.1 MLP + ReLU + ADAM </h2>"
   ]
  },
  {
   "cell_type": "code",
   "execution_count": 49,
   "metadata": {
    "colab": {
     "base_uri": "https://localhost:8080/",
     "height": 381
    },
    "colab_type": "code",
    "executionInfo": {
     "elapsed": 1187,
     "status": "ok",
     "timestamp": 1555824920606,
     "user": {
      "displayName": "saicharan vr",
      "photoUrl": "https://lh6.googleusercontent.com/-9c76VlghUpg/AAAAAAAAAAI/AAAAAAAAKCQ/qEBB6UkNMqc/s64/photo.jpg",
      "userId": "04851133143274740409"
     },
     "user_tz": -330
    },
    "id": "r0CVBzVn2y5f",
    "outputId": "bf4e256a-f2df-4359-f3db-65df00abb64a"
   },
   "outputs": [
    {
     "name": "stdout",
     "output_type": "stream",
     "text": [
      "_________________________________________________________________\n",
      "Layer (type)                 Output Shape              Param #   \n",
      "=================================================================\n",
      "dense_40 (Dense)             (None, 512)               401920    \n",
      "_________________________________________________________________\n",
      "dense_41 (Dense)             (None, 412)               211356    \n",
      "_________________________________________________________________\n",
      "dense_42 (Dense)             (None, 312)               128856    \n",
      "_________________________________________________________________\n",
      "dense_43 (Dense)             (None, 212)               66356     \n",
      "_________________________________________________________________\n",
      "dense_44 (Dense)             (None, 112)               23856     \n",
      "_________________________________________________________________\n",
      "dense_45 (Dense)             (None, 10)                1130      \n",
      "=================================================================\n",
      "Total params: 833,474\n",
      "Trainable params: 833,474\n",
      "Non-trainable params: 0\n",
      "_________________________________________________________________\n",
      "None\n"
     ]
    }
   ],
   "source": [
    "model_relu = Sequential()\n",
    "model_relu.add(Dense(512, activation='relu', input_shape=(input_dim,), kernel_initializer= 'he_normal'))\n",
    "model_relu.add(Dense(412, activation='relu', kernel_initializer='he_normal' ))\n",
    "model_relu.add(Dense(312, activation='relu', kernel_initializer='he_normal' ))\n",
    "model_relu.add(Dense(212, activation='relu', kernel_initializer='he_normal' ))\n",
    "model_relu.add(Dense(112, activation='relu', kernel_initializer='he_normal' ))\n",
    "model_relu.add(Dense(output_dim, activation='softmax'))\n",
    "\n",
    "print(model_relu.summary())"
   ]
  },
  {
   "cell_type": "code",
   "execution_count": 50,
   "metadata": {
    "colab": {
     "base_uri": "https://localhost:8080/",
     "height": 763
    },
    "colab_type": "code",
    "executionInfo": {
     "elapsed": 52071,
     "status": "ok",
     "timestamp": 1555824977565,
     "user": {
      "displayName": "saicharan vr",
      "photoUrl": "https://lh6.googleusercontent.com/-9c76VlghUpg/AAAAAAAAAAI/AAAAAAAAKCQ/qEBB6UkNMqc/s64/photo.jpg",
      "userId": "04851133143274740409"
     },
     "user_tz": -330
    },
    "id": "XT6Pa99y2y5q",
    "outputId": "073ee69e-1bd0-4be9-f10b-2d679c02f487"
   },
   "outputs": [
    {
     "name": "stdout",
     "output_type": "stream",
     "text": [
      "Train on 60000 samples, validate on 10000 samples\n",
      "Epoch 1/20\n",
      "60000/60000 [==============================] - 4s 65us/step - loss: 0.2199 - acc: 0.9335 - val_loss: 0.1347 - val_acc: 0.9599\n",
      "Epoch 2/20\n",
      "60000/60000 [==============================] - 2s 41us/step - loss: 0.0925 - acc: 0.9708 - val_loss: 0.0952 - val_acc: 0.9697\n",
      "Epoch 3/20\n",
      "60000/60000 [==============================] - 2s 41us/step - loss: 0.0630 - acc: 0.9805 - val_loss: 0.1004 - val_acc: 0.9703\n",
      "Epoch 4/20\n",
      "60000/60000 [==============================] - 2s 41us/step - loss: 0.0486 - acc: 0.9849 - val_loss: 0.0794 - val_acc: 0.9758\n",
      "Epoch 5/20\n",
      "60000/60000 [==============================] - 2s 41us/step - loss: 0.0409 - acc: 0.9872 - val_loss: 0.0751 - val_acc: 0.9781\n",
      "Epoch 6/20\n",
      "60000/60000 [==============================] - 2s 41us/step - loss: 0.0312 - acc: 0.9904 - val_loss: 0.0949 - val_acc: 0.9749\n",
      "Epoch 7/20\n",
      "60000/60000 [==============================] - 2s 41us/step - loss: 0.0306 - acc: 0.9902 - val_loss: 0.0931 - val_acc: 0.9747\n",
      "Epoch 8/20\n",
      "60000/60000 [==============================] - 2s 41us/step - loss: 0.0261 - acc: 0.9918 - val_loss: 0.0808 - val_acc: 0.9775\n",
      "Epoch 9/20\n",
      "60000/60000 [==============================] - 2s 41us/step - loss: 0.0222 - acc: 0.9928 - val_loss: 0.0925 - val_acc: 0.9770\n",
      "Epoch 10/20\n",
      "60000/60000 [==============================] - 2s 41us/step - loss: 0.0204 - acc: 0.9933 - val_loss: 0.0953 - val_acc: 0.9776\n",
      "Epoch 11/20\n",
      "60000/60000 [==============================] - 2s 41us/step - loss: 0.0174 - acc: 0.9948 - val_loss: 0.0907 - val_acc: 0.9786\n",
      "Epoch 12/20\n",
      "60000/60000 [==============================] - 2s 41us/step - loss: 0.0204 - acc: 0.9936 - val_loss: 0.0949 - val_acc: 0.9790\n",
      "Epoch 13/20\n",
      "60000/60000 [==============================] - 2s 41us/step - loss: 0.0183 - acc: 0.9941 - val_loss: 0.0839 - val_acc: 0.9811\n",
      "Epoch 14/20\n",
      "60000/60000 [==============================] - 2s 41us/step - loss: 0.0125 - acc: 0.9961 - val_loss: 0.0828 - val_acc: 0.9820\n",
      "Epoch 15/20\n",
      "60000/60000 [==============================] - 2s 41us/step - loss: 0.0142 - acc: 0.9956 - val_loss: 0.0892 - val_acc: 0.9789\n",
      "Epoch 16/20\n",
      "60000/60000 [==============================] - 2s 41us/step - loss: 0.0167 - acc: 0.9954 - val_loss: 0.0788 - val_acc: 0.9833\n",
      "Epoch 17/20\n",
      "60000/60000 [==============================] - 2s 41us/step - loss: 0.0106 - acc: 0.9971 - val_loss: 0.0923 - val_acc: 0.9795\n",
      "Epoch 18/20\n",
      "60000/60000 [==============================] - 2s 41us/step - loss: 0.0133 - acc: 0.9964 - val_loss: 0.0921 - val_acc: 0.9811\n",
      "Epoch 19/20\n",
      "60000/60000 [==============================] - 2s 41us/step - loss: 0.0140 - acc: 0.9960 - val_loss: 0.0897 - val_acc: 0.9777\n",
      "Epoch 20/20\n",
      "60000/60000 [==============================] - 2s 41us/step - loss: 0.0115 - acc: 0.9968 - val_loss: 0.1067 - val_acc: 0.9770\n"
     ]
    }
   ],
   "source": [
    "model_relu.compile(optimizer='adam', loss='categorical_crossentropy', metrics=['accuracy'])\n",
    "\n",
    "history = model_relu.fit(X_train, Y_train, batch_size=batch_size, epochs=nb_epoch, verbose=1, validation_data=(X_test, Y_test))"
   ]
  },
  {
   "cell_type": "code",
   "execution_count": 51,
   "metadata": {
    "colab": {
     "base_uri": "https://localhost:8080/",
     "height": 320
    },
    "colab_type": "code",
    "executionInfo": {
     "elapsed": 2044,
     "status": "ok",
     "timestamp": 1555825039015,
     "user": {
      "displayName": "saicharan vr",
      "photoUrl": "https://lh6.googleusercontent.com/-9c76VlghUpg/AAAAAAAAAAI/AAAAAAAAKCQ/qEBB6UkNMqc/s64/photo.jpg",
      "userId": "04851133143274740409"
     },
     "user_tz": -330
    },
    "id": "Evf-2v_22y5v",
    "outputId": "7cacf1f4-deb9-42a5-bee7-0cdf97216654"
   },
   "outputs": [
    {
     "name": "stdout",
     "output_type": "stream",
     "text": [
      "Test score: 0.10667034212972894\n",
      "Test accuracy: 0.977\n"
     ]
    },
    {
     "data": {
      "image/png": "[encoded data removed]",
      "text/plain": [
       "<Figure size 432x288 with 1 Axes>"
      ]
     },
     "metadata": {
      "tags": []
     },
     "output_type": "display_data"
    }
   ],
   "source": [
    "score = model_relu.evaluate(X_test, Y_test, verbose=0) \n",
    "print('Test score:', score[0]) \n",
    "print('Test accuracy:', score[1])\n",
    "\n",
    "fig,ax = plt.subplots(1,1)\n",
    "ax.set_xlabel('epoch') ; ax.set_ylabel('Categorical Crossentropy Loss')\n",
    "\n",
    "# list of epoch numbers\n",
    "x = list(range(1,nb_epoch+1))\n",
    "\n",
    "vy = history.history['val_loss']\n",
    "ty = history.history['loss']\n",
    "plt_dynamic(x, vy, ty, ax)"
   ]
  },
  {
   "cell_type": "markdown",
   "metadata": {},
   "source": [
    "**summary**\n",
    "Here the train loss keeps decreasing as the no of epochs increases,but the validation loss is not decreasing,it means that the\n",
    "model is overfitting ,here we didnot use batch normalization and dropouts ,and this model is not sensible"
   ]
  },
  {
   "cell_type": "markdown",
   "metadata": {
    "colab_type": "text",
    "id": "usp6Qek82y57"
   },
   "source": [
    " <h2>3.2 MLP + ReLU + ADAM + Batch Norm  </h2>"
   ]
  },
  {
   "cell_type": "code",
   "execution_count": 52,
   "metadata": {
    "colab": {
     "base_uri": "https://localhost:8080/",
     "height": 472
    },
    "colab_type": "code",
    "executionInfo": {
     "elapsed": 1336,
     "status": "ok",
     "timestamp": 1555825098832,
     "user": {
      "displayName": "saicharan vr",
      "photoUrl": "https://lh6.googleusercontent.com/-9c76VlghUpg/AAAAAAAAAAI/AAAAAAAAKCQ/qEBB6UkNMqc/s64/photo.jpg",
      "userId": "04851133143274740409"
     },
     "user_tz": -330
    },
    "id": "lfHtcFOp2y5_",
    "outputId": "ed6aeefc-6004-4cdd-fc43-b85cacf35da2"
   },
   "outputs": [
    {
     "name": "stdout",
     "output_type": "stream",
     "text": [
      "_________________________________________________________________\n",
      "Layer (type)                 Output Shape              Param #   \n",
      "=================================================================\n",
      "dense_46 (Dense)             (None, 512)               401920    \n",
      "_________________________________________________________________\n",
      "batch_normalization_11 (Batc (None, 512)               2048      \n",
      "_________________________________________________________________\n",
      "dense_47 (Dense)             (None, 412)               211356    \n",
      "_________________________________________________________________\n",
      "dense_48 (Dense)             (None, 312)               128856    \n",
      "_________________________________________________________________\n",
      "batch_normalization_12 (Batc (None, 312)               1248      \n",
      "_________________________________________________________________\n",
      "dense_49 (Dense)             (None, 212)               66356     \n",
      "_________________________________________________________________\n",
      "dense_50 (Dense)             (None, 112)               23856     \n",
      "_________________________________________________________________\n",
      "batch_normalization_13 (Batc (None, 112)               448       \n",
      "_________________________________________________________________\n",
      "dense_51 (Dense)             (None, 10)                1130      \n",
      "=================================================================\n",
      "Total params: 837,218\n",
      "Trainable params: 835,346\n",
      "Non-trainable params: 1,872\n",
      "_________________________________________________________________\n"
     ]
    }
   ],
   "source": [
    "# Multilayer perceptron\n",
    "\n",
    "from keras.layers.normalization import BatchNormalization\n",
    "\n",
    "model_batch = Sequential()\n",
    "\n",
    "model_batch.add(Dense(512, activation='relu', input_shape=(input_dim,), kernel_initializer='he_normal'))\n",
    "model_batch.add(BatchNormalization())\n",
    "model_batch.add(Dense(412, activation='relu', kernel_initializer='he_normal') )\n",
    "model_batch.add(Dense(312, activation='relu', kernel_initializer='he_normal') )\n",
    "model_batch.add(BatchNormalization())\n",
    "model_batch.add(Dense(212, activation='relu', kernel_initializer='he_normal') )\n",
    "model_batch.add(Dense(112, activation='relu', kernel_initializer='he_normal') )\n",
    "model_batch.add(BatchNormalization())\n",
    "\n",
    "model_batch.add(Dense(output_dim, activation='softmax'))\n",
    "\n",
    "\n",
    "model_batch.summary()"
   ]
  },
  {
   "cell_type": "code",
   "execution_count": 53,
   "metadata": {
    "colab": {
     "base_uri": "https://localhost:8080/",
     "height": 763
    },
    "colab_type": "code",
    "executionInfo": {
     "elapsed": 91425,
     "status": "ok",
     "timestamp": 1555825194211,
     "user": {
      "displayName": "saicharan vr",
      "photoUrl": "https://lh6.googleusercontent.com/-9c76VlghUpg/AAAAAAAAAAI/AAAAAAAAKCQ/qEBB6UkNMqc/s64/photo.jpg",
      "userId": "04851133143274740409"
     },
     "user_tz": -330
    },
    "id": "89pRrwVW2y6K",
    "outputId": "5c722be1-9583-4d34-c495-de195bc36af0"
   },
   "outputs": [
    {
     "name": "stdout",
     "output_type": "stream",
     "text": [
      "Train on 60000 samples, validate on 10000 samples\n",
      "Epoch 1/20\n",
      "60000/60000 [==============================] - 6s 105us/step - loss: 0.2052 - acc: 0.9375 - val_loss: 0.1086 - val_acc: 0.9650\n",
      "Epoch 2/20\n",
      "60000/60000 [==============================] - 4s 72us/step - loss: 0.0826 - acc: 0.9744 - val_loss: 0.1086 - val_acc: 0.9677\n",
      "Epoch 3/20\n",
      "60000/60000 [==============================] - 4s 72us/step - loss: 0.0575 - acc: 0.9816 - val_loss: 0.0808 - val_acc: 0.9743\n",
      "Epoch 4/20\n",
      "60000/60000 [==============================] - 4s 72us/step - loss: 0.0469 - acc: 0.9848 - val_loss: 0.0903 - val_acc: 0.9711\n",
      "Epoch 5/20\n",
      "60000/60000 [==============================] - 4s 72us/step - loss: 0.0403 - acc: 0.9866 - val_loss: 0.1040 - val_acc: 0.9693\n",
      "Epoch 6/20\n",
      "60000/60000 [==============================] - 4s 72us/step - loss: 0.0345 - acc: 0.9883 - val_loss: 0.0933 - val_acc: 0.9756\n",
      "Epoch 7/20\n",
      "60000/60000 [==============================] - 5s 81us/step - loss: 0.0295 - acc: 0.9904 - val_loss: 0.0791 - val_acc: 0.9779\n",
      "Epoch 8/20\n",
      "60000/60000 [==============================] - 4s 71us/step - loss: 0.0300 - acc: 0.9896 - val_loss: 0.0867 - val_acc: 0.9769\n",
      "Epoch 9/20\n",
      "60000/60000 [==============================] - 4s 72us/step - loss: 0.0258 - acc: 0.9913 - val_loss: 0.0791 - val_acc: 0.9772\n",
      "Epoch 10/20\n",
      "60000/60000 [==============================] - 5s 80us/step - loss: 0.0245 - acc: 0.9919 - val_loss: 0.0784 - val_acc: 0.9790\n",
      "Epoch 11/20\n",
      "60000/60000 [==============================] - 5s 80us/step - loss: 0.0210 - acc: 0.9930 - val_loss: 0.0749 - val_acc: 0.9783\n",
      "Epoch 12/20\n",
      "60000/60000 [==============================] - 4s 71us/step - loss: 0.0204 - acc: 0.9933 - val_loss: 0.0795 - val_acc: 0.9791\n",
      "Epoch 13/20\n",
      "60000/60000 [==============================] - 4s 71us/step - loss: 0.0180 - acc: 0.9940 - val_loss: 0.0814 - val_acc: 0.9784\n",
      "Epoch 14/20\n",
      "60000/60000 [==============================] - 4s 72us/step - loss: 0.0163 - acc: 0.9949 - val_loss: 0.0925 - val_acc: 0.9761\n",
      "Epoch 15/20\n",
      "60000/60000 [==============================] - 4s 71us/step - loss: 0.0176 - acc: 0.9939 - val_loss: 0.0845 - val_acc: 0.9779\n",
      "Epoch 16/20\n",
      "60000/60000 [==============================] - 4s 71us/step - loss: 0.0138 - acc: 0.9952 - val_loss: 0.0834 - val_acc: 0.9794\n",
      "Epoch 17/20\n",
      "60000/60000 [==============================] - 4s 71us/step - loss: 0.0150 - acc: 0.9950 - val_loss: 0.0796 - val_acc: 0.9791\n",
      "Epoch 18/20\n",
      "60000/60000 [==============================] - 4s 72us/step - loss: 0.0150 - acc: 0.9948 - val_loss: 0.0846 - val_acc: 0.9808\n",
      "Epoch 19/20\n",
      "60000/60000 [==============================] - 4s 70us/step - loss: 0.0131 - acc: 0.9956 - val_loss: 0.0717 - val_acc: 0.9822\n",
      "Epoch 20/20\n",
      "60000/60000 [==============================] - 4s 70us/step - loss: 0.0097 - acc: 0.9970 - val_loss: 0.0767 - val_acc: 0.9811\n"
     ]
    }
   ],
   "source": [
    "model_batch.compile(optimizer='adam', loss='categorical_crossentropy', metrics=['accuracy'])\n",
    "\n",
    "history = model_batch.fit(X_train, Y_train, batch_size=batch_size, epochs=nb_epoch, verbose=1, validation_data=(X_test, Y_test))"
   ]
  },
  {
   "cell_type": "code",
   "execution_count": 54,
   "metadata": {
    "colab": {
     "base_uri": "https://localhost:8080/",
     "height": 320
    },
    "colab_type": "code",
    "executionInfo": {
     "elapsed": 2235,
     "status": "ok",
     "timestamp": 1555825259287,
     "user": {
      "displayName": "saicharan vr",
      "photoUrl": "https://lh6.googleusercontent.com/-9c76VlghUpg/AAAAAAAAAAI/AAAAAAAAKCQ/qEBB6UkNMqc/s64/photo.jpg",
      "userId": "04851133143274740409"
     },
     "user_tz": -330
    },
    "id": "Fo1CUFrt2y6f",
    "outputId": "c3b762cd-fccc-4938-b805-f428cd5331d1"
   },
   "outputs": [
    {
     "name": "stdout",
     "output_type": "stream",
     "text": [
      "Test score: 0.07667895425898896\n",
      "Test accuracy: 0.9811\n"
     ]
    },
    {
     "data": {
      "image/png": "[encoded data removed]",
      "text/plain": [
       "<Figure size 432x288 with 1 Axes>"
      ]
     },
     "metadata": {
      "tags": []
     },
     "output_type": "display_data"
    }
   ],
   "source": [
    "score = model_batch.evaluate(X_test, Y_test, verbose=0) \n",
    "print('Test score:', score[0]) \n",
    "print('Test accuracy:', score[1])\n",
    "\n",
    "fig,ax = plt.subplots(1,1)\n",
    "ax.set_xlabel('epoch') ; ax.set_ylabel('Categorical Crossentropy Loss')\n",
    "\n",
    "# list of epoch numbers\n",
    "x = list(range(1,nb_epoch+1))\n",
    "\n",
    "vy = history.history['val_loss']\n",
    "ty = history.history['loss']\n",
    "plt_dynamic(x, vy, ty, ax)"
   ]
  },
  {
   "cell_type": "markdown",
   "metadata": {},
   "source": [
    "**summary**\n",
    "Here the train loss keeps decreasing as the no of epochs increases,but the validation loss is not decreasing,it means that the\n",
    "model is overfitting ,here we have used batch normalization but there is no enhance in results.So this model is not sensible"
   ]
  },
  {
   "cell_type": "markdown",
   "metadata": {
    "colab_type": "text",
    "id": "2y4dJEI-2y6r"
   },
   "source": [
    "<h2>3.3 MLP + ReLU + ADAM + Dropout </h2>\n"
   ]
  },
  {
   "cell_type": "code",
   "execution_count": 55,
   "metadata": {
    "colab": {
     "base_uri": "https://localhost:8080/",
     "height": 472
    },
    "colab_type": "code",
    "executionInfo": {
     "elapsed": 1400,
     "status": "ok",
     "timestamp": 1555825265784,
     "user": {
      "displayName": "saicharan vr",
      "photoUrl": "https://lh6.googleusercontent.com/-9c76VlghUpg/AAAAAAAAAAI/AAAAAAAAKCQ/qEBB6UkNMqc/s64/photo.jpg",
      "userId": "04851133143274740409"
     },
     "user_tz": -330
    },
    "id": "aNKnKYjP2y6s",
    "outputId": "62901e2b-dafb-49e2-9a9d-4d1877276840"
   },
   "outputs": [
    {
     "name": "stdout",
     "output_type": "stream",
     "text": [
      "_________________________________________________________________\n",
      "Layer (type)                 Output Shape              Param #   \n",
      "=================================================================\n",
      "dense_52 (Dense)             (None, 512)               401920    \n",
      "_________________________________________________________________\n",
      "dropout_11 (Dropout)         (None, 512)               0         \n",
      "_________________________________________________________________\n",
      "dense_53 (Dense)             (None, 412)               211356    \n",
      "_________________________________________________________________\n",
      "dense_54 (Dense)             (None, 312)               128856    \n",
      "_________________________________________________________________\n",
      "dropout_12 (Dropout)         (None, 312)               0         \n",
      "_________________________________________________________________\n",
      "dense_55 (Dense)             (None, 212)               66356     \n",
      "_________________________________________________________________\n",
      "dense_56 (Dense)             (None, 112)               23856     \n",
      "_________________________________________________________________\n",
      "dropout_13 (Dropout)         (None, 112)               0         \n",
      "_________________________________________________________________\n",
      "dense_57 (Dense)             (None, 10)                1130      \n",
      "=================================================================\n",
      "Total params: 833,474\n",
      "Trainable params: 833,474\n",
      "Non-trainable params: 0\n",
      "_________________________________________________________________\n"
     ]
    }
   ],
   "source": [
    "# https://stackoverflow.com/questions/34716454/where-do-i-call-the-batchnormalization-function-in-keras\n",
    "\n",
    "from keras.layers import Dropout\n",
    "\n",
    "model_drop = Sequential()\n",
    "\n",
    "model_drop.add(Dense(512, activation='relu', input_shape=(input_dim,), kernel_initializer='he_normal'))\n",
    "model_drop.add(Dropout(0.5))\n",
    "\n",
    "model_drop.add(Dense(412, activation='relu', kernel_initializer='he_normal'))\n",
    "    \n",
    "model_drop.add(Dense(312, activation='relu', kernel_initializer='he_normal'))\n",
    "model_drop.add(Dropout(0.5))\n",
    "\n",
    "model_drop.add(Dense(212, activation='relu', kernel_initializer='he_normal'))\n",
    "   \n",
    "model_drop.add(Dense(112, activation='relu', kernel_initializer='he_normal'))\n",
    "model_drop.add(Dropout(0.5))\n",
    "\n",
    "model_drop.add(Dense(output_dim, activation='softmax'))\n",
    "\n",
    "model_drop.summary()"
   ]
  },
  {
   "cell_type": "code",
   "execution_count": 56,
   "metadata": {
    "colab": {
     "base_uri": "https://localhost:8080/",
     "height": 763
    },
    "colab_type": "code",
    "executionInfo": {
     "elapsed": 58348,
     "status": "ok",
     "timestamp": 1555825326354,
     "user": {
      "displayName": "saicharan vr",
      "photoUrl": "https://lh6.googleusercontent.com/-9c76VlghUpg/AAAAAAAAAAI/AAAAAAAAKCQ/qEBB6UkNMqc/s64/photo.jpg",
      "userId": "04851133143274740409"
     },
     "user_tz": -330
    },
    "id": "AWXsEA2O2y6x",
    "outputId": "61a790b6-6560-45bb-fb62-9b9834eb5b00"
   },
   "outputs": [
    {
     "name": "stdout",
     "output_type": "stream",
     "text": [
      "Train on 60000 samples, validate on 10000 samples\n",
      "Epoch 1/20\n",
      "60000/60000 [==============================] - 4s 75us/step - loss: 0.5890 - acc: 0.8162 - val_loss: 0.1616 - val_acc: 0.9522\n",
      "Epoch 2/20\n",
      "60000/60000 [==============================] - 3s 45us/step - loss: 0.2476 - acc: 0.9354 - val_loss: 0.1187 - val_acc: 0.9653\n",
      "Epoch 3/20\n",
      "60000/60000 [==============================] - 3s 45us/step - loss: 0.1881 - acc: 0.9495 - val_loss: 0.1167 - val_acc: 0.9668\n",
      "Epoch 4/20\n",
      "60000/60000 [==============================] - 3s 45us/step - loss: 0.1629 - acc: 0.9558 - val_loss: 0.0989 - val_acc: 0.9737\n",
      "Epoch 5/20\n",
      "60000/60000 [==============================] - 3s 45us/step - loss: 0.1413 - acc: 0.9618 - val_loss: 0.0872 - val_acc: 0.9752\n",
      "Epoch 6/20\n",
      "60000/60000 [==============================] - 3s 45us/step - loss: 0.1304 - acc: 0.9651 - val_loss: 0.0870 - val_acc: 0.9771\n",
      "Epoch 7/20\n",
      "60000/60000 [==============================] - 3s 45us/step - loss: 0.1208 - acc: 0.9683 - val_loss: 0.0839 - val_acc: 0.9787\n",
      "Epoch 8/20\n",
      "60000/60000 [==============================] - 3s 45us/step - loss: 0.1115 - acc: 0.9705 - val_loss: 0.0884 - val_acc: 0.9783\n",
      "Epoch 9/20\n",
      "60000/60000 [==============================] - 3s 45us/step - loss: 0.1058 - acc: 0.9724 - val_loss: 0.0775 - val_acc: 0.9800\n",
      "Epoch 10/20\n",
      "60000/60000 [==============================] - 3s 45us/step - loss: 0.0989 - acc: 0.9734 - val_loss: 0.0735 - val_acc: 0.9800\n",
      "Epoch 11/20\n",
      "60000/60000 [==============================] - 3s 45us/step - loss: 0.0923 - acc: 0.9746 - val_loss: 0.0725 - val_acc: 0.9796\n",
      "Epoch 12/20\n",
      "60000/60000 [==============================] - 3s 45us/step - loss: 0.0873 - acc: 0.9765 - val_loss: 0.0839 - val_acc: 0.9797\n",
      "Epoch 13/20\n",
      "60000/60000 [==============================] - 3s 45us/step - loss: 0.0809 - acc: 0.9769 - val_loss: 0.0774 - val_acc: 0.9819\n",
      "Epoch 14/20\n",
      "60000/60000 [==============================] - 3s 50us/step - loss: 0.0780 - acc: 0.9784 - val_loss: 0.0774 - val_acc: 0.9814\n",
      "Epoch 15/20\n",
      "60000/60000 [==============================] - 3s 50us/step - loss: 0.0761 - acc: 0.9793 - val_loss: 0.0861 - val_acc: 0.9812\n",
      "Epoch 16/20\n",
      "60000/60000 [==============================] - 3s 50us/step - loss: 0.0750 - acc: 0.9792 - val_loss: 0.0838 - val_acc: 0.9825\n",
      "Epoch 17/20\n",
      "60000/60000 [==============================] - 3s 47us/step - loss: 0.0689 - acc: 0.9814 - val_loss: 0.0827 - val_acc: 0.9804\n",
      "Epoch 18/20\n",
      "60000/60000 [==============================] - 3s 45us/step - loss: 0.0726 - acc: 0.9797 - val_loss: 0.0761 - val_acc: 0.9814\n",
      "Epoch 19/20\n",
      "60000/60000 [==============================] - 3s 45us/step - loss: 0.0656 - acc: 0.9818 - val_loss: 0.0834 - val_acc: 0.9809\n",
      "Epoch 20/20\n",
      "60000/60000 [==============================] - 3s 45us/step - loss: 0.0643 - acc: 0.9825 - val_loss: 0.0753 - val_acc: 0.9828\n"
     ]
    }
   ],
   "source": [
    "model_drop.compile(optimizer='adam', loss='categorical_crossentropy', metrics=['accuracy'])\n",
    "\n",
    "history = model_drop.fit(X_train, Y_train, batch_size=batch_size, epochs=nb_epoch, verbose=1, validation_data=(X_test, Y_test))"
   ]
  },
  {
   "cell_type": "code",
   "execution_count": 57,
   "metadata": {
    "colab": {
     "base_uri": "https://localhost:8080/",
     "height": 320
    },
    "colab_type": "code",
    "executionInfo": {
     "elapsed": 2079,
     "status": "ok",
     "timestamp": 1555825364767,
     "user": {
      "displayName": "saicharan vr",
      "photoUrl": "https://lh6.googleusercontent.com/-9c76VlghUpg/AAAAAAAAAAI/AAAAAAAAKCQ/qEBB6UkNMqc/s64/photo.jpg",
      "userId": "04851133143274740409"
     },
     "user_tz": -330
    },
    "id": "vtT32weU2y63",
    "outputId": "a6695d80-94a8-4d92-8e96-0d3c1c7aa800"
   },
   "outputs": [
    {
     "name": "stdout",
     "output_type": "stream",
     "text": [
      "Test score: 0.07530222116742953\n",
      "Test accuracy: 0.9828\n"
     ]
    },
    {
     "data": {
      "image/png": "[encoded data removed]",
      "text/plain": [
       "<Figure size 432x288 with 1 Axes>"
      ]
     },
     "metadata": {
      "tags": []
     },
     "output_type": "display_data"
    }
   ],
   "source": [
    "score = model_drop.evaluate(X_test, Y_test, verbose=0) \n",
    "print('Test score:', score[0]) \n",
    "print('Test accuracy:', score[1])\n",
    "\n",
    "fig,ax = plt.subplots(1,1)\n",
    "ax.set_xlabel('epoch') ; ax.set_ylabel('Categorical Crossentropy Loss')\n",
    "\n",
    "# list of epoch numbers\n",
    "x = list(range(1,nb_epoch+1))\n",
    "\n",
    "vy = history.history['val_loss']\n",
    "ty = history.history['loss']\n",
    "plt_dynamic(x, vy, ty, ax)"
   ]
  },
  {
   "cell_type": "markdown",
   "metadata": {},
   "source": [
    "**summary**\n",
    "Here the both train loss and validation loss keeps decreasing as the no of epochs increases,it means that the we are getting maximum\n",
    "test accuracy and the model is performing very well as we have used dropouts .So this model is sensible."
   ]
  },
  {
   "cell_type": "markdown",
   "metadata": {
    "colab_type": "text",
    "id": "aEUxFuai2y66"
   },
   "source": [
    "<h2>3.4 MLP + ReLU + ADAM + Batch Norm + Dropout </h2>\n"
   ]
  },
  {
   "cell_type": "code",
   "execution_count": 58,
   "metadata": {
    "colab": {
     "base_uri": "https://localhost:8080/",
     "height": 617
    },
    "colab_type": "code",
    "executionInfo": {
     "elapsed": 1250,
     "status": "ok",
     "timestamp": 1555825390441,
     "user": {
      "displayName": "saicharan vr",
      "photoUrl": "https://lh6.googleusercontent.com/-9c76VlghUpg/AAAAAAAAAAI/AAAAAAAAKCQ/qEBB6UkNMqc/s64/photo.jpg",
      "userId": "04851133143274740409"
     },
     "user_tz": -330
    },
    "id": "Jw84-XUy2y6_",
    "outputId": "c323b823-5ec1-4fdb-ad30-463d10529d2a"
   },
   "outputs": [
    {
     "name": "stdout",
     "output_type": "stream",
     "text": [
      "_________________________________________________________________\n",
      "Layer (type)                 Output Shape              Param #   \n",
      "=================================================================\n",
      "dense_58 (Dense)             (None, 512)               401920    \n",
      "_________________________________________________________________\n",
      "batch_normalization_14 (Batc (None, 512)               2048      \n",
      "_________________________________________________________________\n",
      "dropout_14 (Dropout)         (None, 512)               0         \n",
      "_________________________________________________________________\n",
      "dense_59 (Dense)             (None, 412)               211356    \n",
      "_________________________________________________________________\n",
      "dropout_15 (Dropout)         (None, 412)               0         \n",
      "_________________________________________________________________\n",
      "dense_60 (Dense)             (None, 312)               128856    \n",
      "_________________________________________________________________\n",
      "batch_normalization_15 (Batc (None, 312)               1248      \n",
      "_________________________________________________________________\n",
      "dense_61 (Dense)             (None, 212)               66356     \n",
      "_________________________________________________________________\n",
      "dropout_16 (Dropout)         (None, 212)               0         \n",
      "_________________________________________________________________\n",
      "dense_62 (Dense)             (None, 112)               23856     \n",
      "_________________________________________________________________\n",
      "batch_normalization_16 (Batc (None, 112)               448       \n",
      "_________________________________________________________________\n",
      "dropout_17 (Dropout)         (None, 112)               0         \n",
      "_________________________________________________________________\n",
      "dense_63 (Dense)             (None, 10)                1130      \n",
      "=================================================================\n",
      "Total params: 837,218\n",
      "Trainable params: 835,346\n",
      "Non-trainable params: 1,872\n",
      "_________________________________________________________________\n"
     ]
    }
   ],
   "source": [
    "from keras.layers import Dropout\n",
    "\n",
    "model_drop = Sequential()\n",
    "\n",
    "model_drop.add(Dense(512, activation='relu', input_shape=(input_dim,), kernel_initializer='he_normal'))\n",
    "model_drop.add(BatchNormalization())\n",
    "model_drop.add(Dropout(0.5))\n",
    "\n",
    "model_drop.add(Dense(412, activation='relu', kernel_initializer='he_normal'))\n",
    "model_drop.add(Dropout(0.5))\n",
    "\n",
    "model_drop.add(Dense(312, activation='relu', kernel_initializer='he_normal'))\n",
    "model_drop.add(BatchNormalization())\n",
    "\n",
    "model_drop.add(Dense(212, activation='relu', kernel_initializer='he_normal'))\n",
    "model_drop.add(Dropout(0.5))\n",
    "\n",
    "model_drop.add(Dense(112, activation='relu', kernel_initializer='he_normal'))\n",
    "model_drop.add(BatchNormalization())\n",
    "model_drop.add(Dropout(0.5))\n",
    "\n",
    "model_drop.add(Dense(output_dim, activation='softmax'))\n",
    "\n",
    "model_drop.summary()"
   ]
  },
  {
   "cell_type": "code",
   "execution_count": 59,
   "metadata": {
    "colab": {
     "base_uri": "https://localhost:8080/",
     "height": 763
    },
    "colab_type": "code",
    "executionInfo": {
     "elapsed": 98364,
     "status": "ok",
     "timestamp": 1555825492109,
     "user": {
      "displayName": "saicharan vr",
      "photoUrl": "https://lh6.googleusercontent.com/-9c76VlghUpg/AAAAAAAAAAI/AAAAAAAAKCQ/qEBB6UkNMqc/s64/photo.jpg",
      "userId": "04851133143274740409"
     },
     "user_tz": -330
    },
    "id": "dOpj3BwN2y7E",
    "outputId": "a76b3be6-e5a0-4b50-b3ca-61127153567a"
   },
   "outputs": [
    {
     "name": "stdout",
     "output_type": "stream",
     "text": [
      "Train on 60000 samples, validate on 10000 samples\n",
      "Epoch 1/20\n",
      "60000/60000 [==============================] - 7s 122us/step - loss: 0.8487 - acc: 0.7402 - val_loss: 0.1915 - val_acc: 0.9425\n",
      "Epoch 2/20\n",
      "60000/60000 [==============================] - 5s 77us/step - loss: 0.3095 - acc: 0.9121 - val_loss: 0.1351 - val_acc: 0.9606\n",
      "Epoch 3/20\n",
      "60000/60000 [==============================] - 5s 76us/step - loss: 0.2294 - acc: 0.9364 - val_loss: 0.1100 - val_acc: 0.9674\n",
      "Epoch 4/20\n",
      "60000/60000 [==============================] - 5s 76us/step - loss: 0.1931 - acc: 0.9462 - val_loss: 0.0966 - val_acc: 0.9719\n",
      "Epoch 5/20\n",
      "60000/60000 [==============================] - 5s 76us/step - loss: 0.1699 - acc: 0.9535 - val_loss: 0.1033 - val_acc: 0.9720\n",
      "Epoch 6/20\n",
      "60000/60000 [==============================] - 5s 76us/step - loss: 0.1582 - acc: 0.9566 - val_loss: 0.0890 - val_acc: 0.9743\n",
      "Epoch 7/20\n",
      "60000/60000 [==============================] - 5s 76us/step - loss: 0.1404 - acc: 0.9609 - val_loss: 0.0836 - val_acc: 0.9770\n",
      "Epoch 8/20\n",
      "60000/60000 [==============================] - 5s 75us/step - loss: 0.1316 - acc: 0.9641 - val_loss: 0.0820 - val_acc: 0.9770\n",
      "Epoch 9/20\n",
      "60000/60000 [==============================] - 5s 81us/step - loss: 0.1256 - acc: 0.9652 - val_loss: 0.0758 - val_acc: 0.9788\n",
      "Epoch 10/20\n",
      "60000/60000 [==============================] - 5s 82us/step - loss: 0.1217 - acc: 0.9663 - val_loss: 0.0735 - val_acc: 0.9783\n",
      "Epoch 11/20\n",
      "60000/60000 [==============================] - 5s 76us/step - loss: 0.1132 - acc: 0.9678 - val_loss: 0.0690 - val_acc: 0.9808\n",
      "Epoch 12/20\n",
      "60000/60000 [==============================] - 5s 76us/step - loss: 0.1058 - acc: 0.9706 - val_loss: 0.0689 - val_acc: 0.9805\n",
      "Epoch 13/20\n",
      "60000/60000 [==============================] - 5s 76us/step - loss: 0.1001 - acc: 0.9725 - val_loss: 0.0725 - val_acc: 0.9807\n",
      "Epoch 14/20\n",
      "60000/60000 [==============================] - 5s 75us/step - loss: 0.0970 - acc: 0.9727 - val_loss: 0.0699 - val_acc: 0.9810\n",
      "Epoch 15/20\n",
      "60000/60000 [==============================] - 5s 76us/step - loss: 0.0893 - acc: 0.9754 - val_loss: 0.0703 - val_acc: 0.9805\n",
      "Epoch 16/20\n",
      "60000/60000 [==============================] - 5s 87us/step - loss: 0.0910 - acc: 0.9746 - val_loss: 0.0713 - val_acc: 0.9800\n",
      "Epoch 17/20\n",
      "60000/60000 [==============================] - 5s 85us/step - loss: 0.0814 - acc: 0.9768 - val_loss: 0.0675 - val_acc: 0.9816\n",
      "Epoch 18/20\n",
      "60000/60000 [==============================] - 5s 76us/step - loss: 0.0791 - acc: 0.9780 - val_loss: 0.0624 - val_acc: 0.9827\n",
      "Epoch 19/20\n",
      "60000/60000 [==============================] - 5s 77us/step - loss: 0.0760 - acc: 0.9782 - val_loss: 0.0714 - val_acc: 0.9801\n",
      "Epoch 20/20\n",
      "60000/60000 [==============================] - 5s 77us/step - loss: 0.0771 - acc: 0.9785 - val_loss: 0.0613 - val_acc: 0.9824\n"
     ]
    }
   ],
   "source": [
    "model_drop.compile(optimizer='adam', loss='categorical_crossentropy', metrics=['accuracy'])\n",
    "\n",
    "history = model_drop.fit(X_train, Y_train, batch_size=batch_size, epochs=nb_epoch, verbose=1, validation_data=(X_test, Y_test))"
   ]
  },
  {
   "cell_type": "code",
   "execution_count": 60,
   "metadata": {
    "colab": {
     "base_uri": "https://localhost:8080/",
     "height": 320
    },
    "colab_type": "code",
    "executionInfo": {
     "elapsed": 2650,
     "status": "ok",
     "timestamp": 1555825500030,
     "user": {
      "displayName": "saicharan vr",
      "photoUrl": "https://lh6.googleusercontent.com/-9c76VlghUpg/AAAAAAAAAAI/AAAAAAAAKCQ/qEBB6UkNMqc/s64/photo.jpg",
      "userId": "04851133143274740409"
     },
     "user_tz": -330
    },
    "id": "6rUoPnNT2y7I",
    "outputId": "00333735-e9d8-4f1b-e3fd-37884a133e21"
   },
   "outputs": [
    {
     "name": "stdout",
     "output_type": "stream",
     "text": [
      "Test score: 0.061292790147161574\n",
      "Test accuracy: 0.9824\n"
     ]
    },
    {
     "data": {
      "image/png": "[encoded data removed]",
      "text/plain": [
       "<Figure size 432x288 with 1 Axes>"
      ]
     },
     "metadata": {
      "tags": []
     },
     "output_type": "display_data"
    }
   ],
   "source": [
    "score = model_drop.evaluate(X_test, Y_test, verbose=0) \n",
    "print('Test score:', score[0]) \n",
    "print('Test accuracy:', score[1])\n",
    "\n",
    "fig,ax = plt.subplots(1,1)\n",
    "ax.set_xlabel('epoch') ; ax.set_ylabel('Categorical Crossentropy Loss')\n",
    "\n",
    "# list of epoch numbers\n",
    "x = list(range(1,nb_epoch+1))\n",
    "\n",
    "vy = history.history['val_loss']\n",
    "ty = history.history['loss']\n",
    "plt_dynamic(x, vy, ty, ax)"
   ]
  },
  {
   "cell_type": "markdown",
   "metadata": {},
   "source": [
    "**summary**\n",
    "Here the both train loss and validation loss keeps decreasing as the no of epochs increases,it means that the we are getting maximum\n",
    "test accuracy and the model is performing very well as we have used both batch normalization and  dropouts .So this model is sensible"
   ]
  },
  {
   "cell_type": "markdown",
   "metadata": {},
   "source": [
    "# Conclusions "
   ]
  },
  {
   "cell_type": "code",
   "execution_count": 30,
   "metadata": {},
   "outputs": [
    {
     "name": "stdout",
     "output_type": "stream",
     "text": [
      "+---------------------------------------------------+------------+---------------+\n",
      "| Model                                             | Test Score | Test Accuracy |\n",
      "+---------------------------------------------------+------------+---------------+\n",
      "| 1. TWO HIDDEN LAYERS(784-324-124-10)              |            |               |\n",
      "| 1.1 MLP+Relu+Adam                                 |   0.088    |     0.981     |\n",
      "| 1.2 MLP+Relu+Adam+BatchNorm                       |   0.080    |     0.982     |\n",
      "| 1.3 MLP+Relu+Adam+Dropouts                        |   0.064    |     0.982     |\n",
      "| 1.4 MLP+Relu+Adam+BatchNorm+Dropouts              |   0.051    |     0.983     |\n",
      "|                                                   |            |               |\n",
      "| 2. THREE HIDDEN LAYERS(784-356-256-156-10)        |            |               |\n",
      "| 2.1 MLP+Relu+Adam                                 |   0.100    |     0.979     |\n",
      "| 2.2 MLP+Relu+Adam+Batch Norm                      |   0.983    |     0.986     |\n",
      "| 2.3 MLP+Relu+Adam+Dropouts                        |   0.073    |     0.981     |\n",
      "| 2.4 MLP+Relu+Adam+Batch Norm+Dropouts             |   0.062    |     0.982     |\n",
      "|                                                   |            |               |\n",
      "| 3. FIVE HIDDEN LAYERS(784-512-412-312-212-112-10) |            |               |\n",
      "| 3.1 MLP+Relu+Adam                                 |   0.106    |     0.977     |\n",
      "| 3.2 MLP+Relu+Adam+Batch Norm                      |   0.076    |     0.981     |\n",
      "| 3.3 MLP+Relu+Adam+Dropouts                        |   0.078    |     0.982     |\n",
      "| 3.4 MLP+Relu+Adam+Batch Norm+Dropouts             |   0.061    |     0.982     |\n",
      "+---------------------------------------------------+------------+---------------+\n"
     ]
    }
   ],
   "source": [
    "from prettytable import PrettyTable\n",
    "   \n",
    "pt = PrettyTable()\n",
    "\n",
    "\n",
    "pt.field_names = [\"Model\", \"Test Score\",\"Test Accuracy\"]\n",
    "pt.align[\"Model\"] = \"l\"\n",
    "\n",
    "pt.add_row([\"1. TWO HIDDEN LAYERS(784-324-124-10)\", \"\", \"\"])\n",
    "pt.add_row([\"1.1 MLP+Relu+Adam\", \"0.088\", \"0.981\"])\n",
    "pt.add_row([\"1.2 MLP+Relu+Adam+BatchNorm\", \"0.080\", \"0.982\"])\n",
    "pt.add_row([\"1.3 MLP+Relu+Adam+Dropouts\", \"0.064\", \"0.982\"])\n",
    "pt.add_row([\"1.4 MLP+Relu+Adam+BatchNorm+Dropouts\", \"0.051\", \"0.983\"])\n",
    "pt.add_row([\"\", \"\", \"\"])\n",
    "\n",
    "pt.add_row([\"2. THREE HIDDEN LAYERS(784-356-256-156-10)\", \"\", \"\"])\n",
    "pt.add_row([\"2.1 MLP+Relu+Adam\", \"0.100\", \"0.979\"])\n",
    "pt.add_row([\"2.2 MLP+Relu+Adam+Batch Norm\", \"0.983\",\"0.986\"])\n",
    "pt.add_row([\"2.3 MLP+Relu+Adam+Dropouts\", \"0.073\", \"0.981\"])\n",
    "pt.add_row([\"2.4 MLP+Relu+Adam+Batch Norm+Dropouts\", \"0.062\", \"0.982\"])\n",
    "pt.add_row([\"\", \"\", \"\"])\n",
    "\n",
    "pt.add_row([\"3. FIVE HIDDEN LAYERS(784-512-412-312-212-112-10)\", \"\", \"\"])\n",
    "pt.add_row([\"3.1 MLP+Relu+Adam\", \"0.106\", \"0.977\"])\n",
    "pt.add_row([\"3.2 MLP+Relu+Adam+Batch Norm\", \"0.076\", \"0.981\"])\n",
    "pt.add_row([\"3.3 MLP+Relu+Adam+Dropouts\", \"0.078\", \"0.982\"])\n",
    "pt.add_row([\"3.4 MLP+Relu+Adam+Batch Norm+Dropouts\", \"0.061\", \"0.982\"])\n",
    "\n",
    "\n",
    "print(pt)\n"
   ]
  },
  {
   "cell_type": "markdown",
   "metadata": {},
   "source": [
    "1. From all the three models we have observed that dropouts playing a crucial role for getting the very good model and prevent      the model from overfitting.\n",
    "2. Here the combination of both batch normalization and dropouts also giving the similar results as model with only dropouts.\n",
    "3. As no. of layers increase the model is performing well.\n",
    "4. so we can conclude that if we use both batch normalization and dropouts we will get very good results"
   ]
  },
  {
   "cell_type": "code",
   "execution_count": null,
   "metadata": {},
   "outputs": [],
   "source": []
  }
 ],
 "metadata": {
  "accelerator": "GPU",
  "colab": {
   "collapsed_sections": [],
   "name": "Keras_Mnist_assignment .ipynb",
   "provenance": [],
   "version": "0.3.2"
  },
  "kernelspec": {
   "display_name": "Python 3",
   "language": "python",
   "name": "python3"
  },
  "language_info": {
   "codemirror_mode": {
    "name": "ipython",
    "version": 3
   },
   "file_extension": ".py",
   "mimetype": "text/x-python",
   "name": "python",
   "nbconvert_exporter": "python",
   "pygments_lexer": "ipython3",
   "version": "3.6.5"
  }
 },
 "nbformat": 4,
 "nbformat_minor": 1
}
